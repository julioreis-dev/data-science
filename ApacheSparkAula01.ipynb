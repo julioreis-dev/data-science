{
  "nbformat": 4,
  "nbformat_minor": 0,
  "metadata": {
    "colab": {
      "provenance": [],
      "authorship_tag": "ABX9TyOKaSyaAhUJ2K4uDPkCUM79",
      "include_colab_link": true
    },
    "kernelspec": {
      "name": "python3",
      "display_name": "Python 3"
    },
    "language_info": {
      "name": "python"
    }
  },
  "cells": [
    {
      "cell_type": "markdown",
      "metadata": {
        "id": "view-in-github",
        "colab_type": "text"
      },
      "source": [
        "<a href=\"https://colab.research.google.com/github/julioreis-dev/data_science/blob/main/ApacheSparkAula01.ipynb\" target=\"_parent\"><img src=\"https://colab.research.google.com/assets/colab-badge.svg\" alt=\"Open In Colab\"/></a>"
      ]
    },
    {
      "cell_type": "code",
      "source": [
        "%%bash\n",
        "# instalar as dependências\n",
        "apt-get update && apt-get install openjdk-8-jdk-headless -qq > /dev/null\n",
        "\n",
        "# instalar pyspark\n",
        "pip install -q pyspark\n"
      ],
      "metadata": {
        "colab": {
          "base_uri": "https://localhost:8080/"
        },
        "id": "dHqsmmsU9t6s",
        "outputId": "5929a803-aa06-49a3-c042-dddf3d1ec555"
      },
      "execution_count": 1,
      "outputs": [
        {
          "output_type": "stream",
          "name": "stdout",
          "text": [
            "Get:1 https://cloud.r-project.org/bin/linux/ubuntu jammy-cran40/ InRelease [3,626 B]\n",
            "Hit:2 https://developer.download.nvidia.com/compute/cuda/repos/ubuntu2204/x86_64  InRelease\n",
            "Hit:3 http://archive.ubuntu.com/ubuntu jammy InRelease\n",
            "Get:4 https://cloud.r-project.org/bin/linux/ubuntu jammy-cran40/ Packages [46.6 kB]\n",
            "Get:5 http://archive.ubuntu.com/ubuntu jammy-updates InRelease [119 kB]\n",
            "Get:6 http://security.ubuntu.com/ubuntu jammy-security InRelease [110 kB]\n",
            "Get:7 http://archive.ubuntu.com/ubuntu jammy-backports InRelease [109 kB]\n",
            "Get:8 https://ppa.launchpadcontent.net/c2d4u.team/c2d4u4.0+/ubuntu jammy InRelease [18.1 kB]\n",
            "Get:9 http://archive.ubuntu.com/ubuntu jammy-updates/restricted amd64 Packages [1,419 kB]\n",
            "Get:10 http://archive.ubuntu.com/ubuntu jammy-updates/multiverse amd64 Packages [49.8 kB]\n",
            "Hit:11 https://ppa.launchpadcontent.net/deadsnakes/ppa/ubuntu jammy InRelease\n",
            "Hit:12 https://ppa.launchpadcontent.net/graphics-drivers/ppa/ubuntu jammy InRelease\n",
            "Hit:13 https://ppa.launchpadcontent.net/ubuntugis/ppa/ubuntu jammy InRelease\n",
            "Get:14 https://ppa.launchpadcontent.net/c2d4u.team/c2d4u4.0+/ubuntu jammy/main Sources [2,231 kB]\n",
            "Get:15 https://ppa.launchpadcontent.net/c2d4u.team/c2d4u4.0+/ubuntu jammy/main amd64 Packages [1,145 kB]\n",
            "Fetched 5,251 kB in 6s (911 kB/s)\n",
            "Reading package lists...\n",
            "     ━━━━━━━━━━━━━━━━━━━━━━━━━━━━━━━━━━━━━━━━ 316.9/316.9 MB 3.5 MB/s eta 0:00:00\n"
          ]
        }
      ]
    },
    {
      "cell_type": "code",
      "source": [
        "import os\n",
        "os.environ[\"JAVA_HOME\"] = \"/usr/lib/jvm/java-8-openjdk-amd64\""
      ],
      "metadata": {
        "id": "wCjy7_Yd-d9f"
      },
      "execution_count": 2,
      "outputs": []
    },
    {
      "cell_type": "code",
      "source": [
        "%%bash\n",
        "# Dowload dos dados utilizados\n",
        "mkdir titanic\n",
        "curl https://raw.githubusercontent.com/neylsoncrepalde/titanic_data_with_semicolon/main/titanic.csv -o titanic/titanic.csv\n"
      ],
      "metadata": {
        "colab": {
          "base_uri": "https://localhost:8080/"
        },
        "id": "TXbFtJ2r_866",
        "outputId": "19f1bb15-c68b-42a8-a361-f7d1b8e9ebd0"
      },
      "execution_count": 3,
      "outputs": [
        {
          "output_type": "stream",
          "name": "stderr",
          "text": [
            "  % Total    % Received % Xferd  Average Speed   Time    Time     Time  Current\n",
            "                                 Dload  Upload   Total   Spent    Left  Speed\n",
            "\r  0     0    0     0    0     0      0      0 --:--:-- --:--:-- --:--:--     0\r  0     0    0     0    0     0      0      0 --:--:-- --:--:-- --:--:--     0\r100 60326  100 60326    0     0   199k      0 --:--:-- --:--:-- --:--:--  199k\n"
          ]
        }
      ]
    },
    {
      "cell_type": "code",
      "source": [
        "# Importar os módulos necessários\n",
        "from pyspark.sql import SparkSession\n",
        "from pyspark.sql import functions as f\n",
        "\n",
        "# Iniciar a sessão Spark\n",
        "spark = SparkSession.builder.getOrCreate()"
      ],
      "metadata": {
        "id": "xVOdv1mL_8-m"
      },
      "execution_count": 4,
      "outputs": []
    },
    {
      "cell_type": "code",
      "source": [
        "# Leitura de dados\n",
        "# titanic = (\n",
        "#     spark\n",
        "#     .read\n",
        "#     .format(\"csv\")\n",
        "#     .option(\"delimiter\", \";\")\n",
        "#     .option(\"header\", True)\n",
        "#     .option(\"inferSchema\", True)\n",
        "#     .load(\"titanic\")\n",
        "# )\n",
        "# titanic.printSchema()\n",
        "\n",
        "# Modo alternativo\n",
        "titanic = (\n",
        "    spark\n",
        "    .read\n",
        "    .csv(\"titanic\", header=True, sep=\";\", inferSchema=True)\n",
        ")\n",
        "titanic.printSchema()"
      ],
      "metadata": {
        "colab": {
          "base_uri": "https://localhost:8080/"
        },
        "id": "ig5q49wz_9CH",
        "outputId": "f76a724f-e4e7-45a1-c562-acca3c3ca5c4"
      },
      "execution_count": 5,
      "outputs": [
        {
          "output_type": "stream",
          "name": "stdout",
          "text": [
            "root\n",
            " |-- PassengerId: integer (nullable = true)\n",
            " |-- Survived: integer (nullable = true)\n",
            " |-- Pclass: integer (nullable = true)\n",
            " |-- Name: string (nullable = true)\n",
            " |-- Sex: string (nullable = true)\n",
            " |-- Age: double (nullable = true)\n",
            " |-- SibSp: integer (nullable = true)\n",
            " |-- Parch: integer (nullable = true)\n",
            " |-- Ticket: string (nullable = true)\n",
            " |-- Fare: double (nullable = true)\n",
            " |-- Cabin: string (nullable = true)\n",
            " |-- Embarked: string (nullable = true)\n",
            "\n"
          ]
        }
      ]
    },
    {
      "cell_type": "code",
      "source": [
        "titanic.show(truncate=False)"
      ],
      "metadata": {
        "colab": {
          "base_uri": "https://localhost:8080/"
        },
        "id": "QYHd10euC8l_",
        "outputId": "b85bd6e8-2835-4957-eb51-e8277ca42203"
      },
      "execution_count": 6,
      "outputs": [
        {
          "output_type": "stream",
          "name": "stdout",
          "text": [
            "+-----------+--------+------+-------------------------------------------------------+------+----+-----+-----+----------------+-------+-----+--------+\n",
            "|PassengerId|Survived|Pclass|Name                                                   |Sex   |Age |SibSp|Parch|Ticket          |Fare   |Cabin|Embarked|\n",
            "+-----------+--------+------+-------------------------------------------------------+------+----+-----+-----+----------------+-------+-----+--------+\n",
            "|1          |0       |3     |Braund, Mr. Owen Harris                                |male  |22.0|1    |0    |A/5 21171       |7.25   |NULL |S       |\n",
            "|2          |1       |1     |Cumings, Mrs. John Bradley (Florence Briggs Thayer)    |female|38.0|1    |0    |PC 17599        |71.2833|C85  |C       |\n",
            "|3          |1       |3     |Heikkinen, Miss. Laina                                 |female|26.0|0    |0    |STON/O2. 3101282|7.925  |NULL |S       |\n",
            "|4          |1       |1     |Futrelle, Mrs. Jacques Heath (Lily May Peel)           |female|35.0|1    |0    |113803          |53.1   |C123 |S       |\n",
            "|5          |0       |3     |Allen, Mr. William Henry                               |male  |35.0|0    |0    |373450          |8.05   |NULL |S       |\n",
            "|6          |0       |3     |Moran, Mr. James                                       |male  |NULL|0    |0    |330877          |8.4583 |NULL |Q       |\n",
            "|7          |0       |1     |McCarthy, Mr. Timothy J                                |male  |54.0|0    |0    |17463           |51.8625|E46  |S       |\n",
            "|8          |0       |3     |Palsson, Master. Gosta Leonard                         |male  |2.0 |3    |1    |349909          |21.075 |NULL |S       |\n",
            "|9          |1       |3     |Johnson, Mrs. Oscar W (Elisabeth Vilhelmina Berg)      |female|27.0|0    |2    |347742          |11.1333|NULL |S       |\n",
            "|10         |1       |2     |Nasser, Mrs. Nicholas (Adele Achem)                    |female|14.0|1    |0    |237736          |30.0708|NULL |C       |\n",
            "|11         |1       |3     |Sandstrom, Miss. Marguerite Rut                        |female|4.0 |1    |1    |PP 9549         |16.7   |G6   |S       |\n",
            "|12         |1       |1     |Bonnell, Miss. Elizabeth                               |female|58.0|0    |0    |113783          |26.55  |C103 |S       |\n",
            "|13         |0       |3     |Saundercock, Mr. William Henry                         |male  |20.0|0    |0    |A/5. 2151       |8.05   |NULL |S       |\n",
            "|14         |0       |3     |Andersson, Mr. Anders Johan                            |male  |39.0|1    |5    |347082          |31.275 |NULL |S       |\n",
            "|15         |0       |3     |Vestrom, Miss. Hulda Amanda Adolfina                   |female|14.0|0    |0    |350406          |7.8542 |NULL |S       |\n",
            "|16         |1       |2     |Hewlett, Mrs. (Mary D Kingcome)                        |female|55.0|0    |0    |248706          |16.0   |NULL |S       |\n",
            "|17         |0       |3     |Rice, Master. Eugene                                   |male  |2.0 |4    |1    |382652          |29.125 |NULL |Q       |\n",
            "|18         |1       |2     |Williams, Mr. Charles Eugene                           |male  |NULL|0    |0    |244373          |13.0   |NULL |S       |\n",
            "|19         |0       |3     |Vander Planke, Mrs. Julius (Emelia Maria Vandemoortele)|female|31.0|1    |0    |345763          |18.0   |NULL |S       |\n",
            "|20         |1       |3     |Masselmani, Mrs. Fatima                                |female|NULL|0    |0    |2649            |7.225  |NULL |C       |\n",
            "+-----------+--------+------+-------------------------------------------------------+------+----+-----+-----+----------------+-------+-----+--------+\n",
            "only showing top 20 rows\n",
            "\n"
          ]
        }
      ]
    },
    {
      "cell_type": "markdown",
      "source": [
        "# Escrever os dados"
      ],
      "metadata": {
        "id": "br5BYBMkCthS"
      }
    },
    {
      "cell_type": "code",
      "source": [
        "(\n",
        "    titanic\n",
        "    .write\n",
        "    .mode(\"overwrite\")\n",
        "    .save(\"titanic_parquet\")\n",
        ")"
      ],
      "metadata": {
        "id": "Ydqc8Ni8_9FU"
      },
      "execution_count": 7,
      "outputs": []
    },
    {
      "cell_type": "code",
      "source": [
        "# Selecionar colunas\n",
        "titanic.select(\"Name\", \"Sex\", \"Pclass\", \"Survived\").show(n=10)"
      ],
      "metadata": {
        "id": "byV9zcDs_9IN",
        "colab": {
          "base_uri": "https://localhost:8080/"
        },
        "outputId": "2aa2b3e2-c4fd-498b-d72f-5deab9f1065a"
      },
      "execution_count": 8,
      "outputs": [
        {
          "output_type": "stream",
          "name": "stdout",
          "text": [
            "+--------------------+------+------+--------+\n",
            "|                Name|   Sex|Pclass|Survived|\n",
            "+--------------------+------+------+--------+\n",
            "|Braund, Mr. Owen ...|  male|     3|       0|\n",
            "|Cumings, Mrs. Joh...|female|     1|       1|\n",
            "|Heikkinen, Miss. ...|female|     3|       1|\n",
            "|Futrelle, Mrs. Ja...|female|     1|       1|\n",
            "|Allen, Mr. Willia...|  male|     3|       0|\n",
            "|    Moran, Mr. James|  male|     3|       0|\n",
            "|McCarthy, Mr. Tim...|  male|     1|       0|\n",
            "|Palsson, Master. ...|  male|     3|       0|\n",
            "|Johnson, Mrs. Osc...|female|     3|       1|\n",
            "|Nasser, Mrs. Nich...|female|     2|       1|\n",
            "+--------------------+------+------+--------+\n",
            "only showing top 10 rows\n",
            "\n"
          ]
        }
      ]
    },
    {
      "cell_type": "code",
      "source": [
        "titanic.where(\"Sex = 'male' AND Survived = 1\").show()"
      ],
      "metadata": {
        "id": "yNAyx2Co_9Ln",
        "colab": {
          "base_uri": "https://localhost:8080/"
        },
        "outputId": "4e279887-dbb8-49a0-f530-bb577ef88ca9"
      },
      "execution_count": 9,
      "outputs": [
        {
          "output_type": "stream",
          "name": "stdout",
          "text": [
            "+-----------+--------+------+--------------------+----+----+-----+-----+--------+-------+-------+--------+\n",
            "|PassengerId|Survived|Pclass|                Name| Sex| Age|SibSp|Parch|  Ticket|   Fare|  Cabin|Embarked|\n",
            "+-----------+--------+------+--------------------+----+----+-----+-----+--------+-------+-------+--------+\n",
            "|         18|       1|     2|Williams, Mr. Cha...|male|NULL|    0|    0|  244373|   13.0|   NULL|       S|\n",
            "|         22|       1|     2|Beesley, Mr. Lawr...|male|34.0|    0|    0|  248698|   13.0|    D56|       S|\n",
            "|         24|       1|     1|Sloper, Mr. Willi...|male|28.0|    0|    0|  113788|   35.5|     A6|       S|\n",
            "|         37|       1|     3|    Mamee, Mr. Hanna|male|NULL|    0|    0|    2677| 7.2292|   NULL|       C|\n",
            "|         56|       1|     1|   Woolner, Mr. Hugh|male|NULL|    0|    0|   19947|   35.5|    C52|       S|\n",
            "|         66|       1|     3|Moubarek, Master....|male|NULL|    1|    1|    2661|15.2458|   NULL|       C|\n",
            "|         75|       1|     3|       Bing, Mr. Lee|male|32.0|    0|    0|    1601|56.4958|   NULL|       S|\n",
            "|         79|       1|     2|Caldwell, Master....|male|0.83|    0|    2|  248738|   29.0|   NULL|       S|\n",
            "|         82|       1|     3|Sheerlinck, Mr. J...|male|29.0|    0|    0|  345779|    9.5|   NULL|       S|\n",
            "|         98|       1|     1|Greenfield, Mr. W...|male|23.0|    0|    1|PC 17759|63.3583|D10 D12|       C|\n",
            "|        108|       1|     3|Moss, Mr. Albert ...|male|NULL|    0|    0|  312991|  7.775|   NULL|       S|\n",
            "|        126|       1|     3|Nicola-Yarred, Ma...|male|12.0|    1|    0|    2651|11.2417|   NULL|       C|\n",
            "|        128|       1|     3|Madsen, Mr. Fridt...|male|24.0|    0|    0| C 17369| 7.1417|   NULL|       S|\n",
            "|        147|       1|     3|\"Andersson, Mr. A...|male|27.0|    0|    0|  350043| 7.7958|   NULL|       S|\n",
            "|        166|       1|     3|\"Goldsmith, Maste...|male| 9.0|    0|    2|  363291| 20.525|   NULL|       S|\n",
            "|        184|       1|     2|Becker, Master. R...|male| 1.0|    2|    1|  230136|   39.0|     F4|       S|\n",
            "|        188|       1|     1|\"Romaine, Mr. Cha...|male|45.0|    0|    0|  111428|  26.55|   NULL|       S|\n",
            "|        194|       1|     2|Navratil, Master....|male| 3.0|    1|    1|  230080|   26.0|     F2|       S|\n",
            "|        205|       1|     3|\"Cohen, Mr. Gursh...|male|18.0|    0|    0|A/5 3540|   8.05|   NULL|       S|\n",
            "|        208|       1|     3|Albimona, Mr. Nas...|male|26.0|    0|    0|    2699|18.7875|   NULL|       C|\n",
            "+-----------+--------+------+--------------------+----+----+-----+-----+--------+-------+-------+--------+\n",
            "only showing top 20 rows\n",
            "\n"
          ]
        }
      ]
    },
    {
      "cell_type": "code",
      "source": [
        "titanic.agg(\n",
        "    f.mean(\"Age\").alias('med_idade'),\n",
        "    f.min('Age').alias('idade_minima'),\n",
        "    f.max('Age').alias('idade_maxima'),\n",
        "    f.stddev('Age').alias('desvio_padrao_idade')\n",
        ").show()"
      ],
      "metadata": {
        "id": "WbKttVwS_9O1",
        "colab": {
          "base_uri": "https://localhost:8080/"
        },
        "outputId": "fb39ed97-f13b-48e1-9e97-453aa6bb5ccd"
      },
      "execution_count": 10,
      "outputs": [
        {
          "output_type": "stream",
          "name": "stdout",
          "text": [
            "+-----------------+------------+------------+-------------------+\n",
            "|        med_idade|idade_minima|idade_maxima|desvio_padrao_idade|\n",
            "+-----------------+------------+------------+-------------------+\n",
            "|29.69911764705882|        0.42|        80.0| 14.526497332334035|\n",
            "+-----------------+------------+------------+-------------------+\n",
            "\n"
          ]
        }
      ]
    },
    {
      "cell_type": "code",
      "source": [
        "# Métricas agrupadas\n",
        "(\n",
        "    titanic\n",
        "    .groupBy('Sex')\n",
        "    .agg(\n",
        "        f.mean(\"Age\").alias('med_idade'),\n",
        "        f.min('Age').alias('idade_minima'),\n",
        "        f.max('Age').alias('idade_maxima'),\n",
        "        f.stddev('Age').alias('desvio_padrao_idade')\n",
        "    ).show()\n",
        ")"
      ],
      "metadata": {
        "id": "QzNpz5qU_9SI",
        "colab": {
          "base_uri": "https://localhost:8080/"
        },
        "outputId": "5d01c51d-8012-436f-e421-4fb431f1cffc"
      },
      "execution_count": 11,
      "outputs": [
        {
          "output_type": "stream",
          "name": "stdout",
          "text": [
            "+------+------------------+------------+------------+-------------------+\n",
            "|   Sex|         med_idade|idade_minima|idade_maxima|desvio_padrao_idade|\n",
            "+------+------------------+------------+------------+-------------------+\n",
            "|female|27.915708812260537|        0.75|        63.0| 14.110146457544133|\n",
            "|  male| 30.72664459161148|        0.42|        80.0| 14.678200823816608|\n",
            "+------+------------------+------------+------------+-------------------+\n",
            "\n"
          ]
        }
      ]
    },
    {
      "cell_type": "code",
      "source": [
        "# Modo alternativo\n",
        "titanic.groupBy('Sex').agg(\n",
        "        f.mean(\"Age\").alias('med_idade'),\n",
        "        f.min('Age').alias('idade_minima'),\n",
        "        f.max('Age').alias('idade_maxima'),\n",
        "        f.stddev('Age').alias('desvio_padrao_idade')\n",
        ").show()"
      ],
      "metadata": {
        "id": "bGlRSIqY_9VL",
        "colab": {
          "base_uri": "https://localhost:8080/"
        },
        "outputId": "82a20d7a-490c-4aa8-ffa9-be6b74042689"
      },
      "execution_count": 12,
      "outputs": [
        {
          "output_type": "stream",
          "name": "stdout",
          "text": [
            "+------+------------------+------------+------------+-------------------+\n",
            "|   Sex|         med_idade|idade_minima|idade_maxima|desvio_padrao_idade|\n",
            "+------+------------------+------------+------------+-------------------+\n",
            "|female|27.915708812260537|        0.75|        63.0| 14.110146457544133|\n",
            "|  male| 30.72664459161148|        0.42|        80.0| 14.678200823816608|\n",
            "+------+------------------+------------+------------+-------------------+\n",
            "\n"
          ]
        }
      ]
    },
    {
      "cell_type": "code",
      "source": [
        "# Ordenar os resultados\n",
        "(\n",
        "    titanic\n",
        "    .groupBy('Sex', 'Pclass', 'Survived')\n",
        "    .agg(\n",
        "        f.mean(\"Age\").alias('med_idade'),\n",
        "        f.min('Age').alias('idade_minima'),\n",
        "        f.max('Age').alias('idade_maxima'),\n",
        "        f.stddev('Age').alias('desvio_padrao_idade')\n",
        "    )\n",
        "    .orderBy('Sex', 'Pclass', 'Survived')\n",
        "    .show()\n",
        ")"
      ],
      "metadata": {
        "id": "-zmJ43c-_9YG",
        "colab": {
          "base_uri": "https://localhost:8080/"
        },
        "outputId": "c4e1c6cc-aba6-4a7d-8c59-76c50879e03d"
      },
      "execution_count": 13,
      "outputs": [
        {
          "output_type": "stream",
          "name": "stdout",
          "text": [
            "+------+------+--------+------------------+------------+------------+-------------------+\n",
            "|   Sex|Pclass|Survived|         med_idade|idade_minima|idade_maxima|desvio_padrao_idade|\n",
            "+------+------+--------+------------------+------------+------------+-------------------+\n",
            "|female|     1|       0|25.666666666666668|         2.0|        50.0|  24.00694344004112|\n",
            "|female|     1|       1|  34.9390243902439|        14.0|        63.0| 13.223013572001038|\n",
            "|female|     2|       0|              36.0|        24.0|        57.0| 12.915107432770352|\n",
            "|female|     2|       1|28.080882352941178|         2.0|        55.0|  12.76469311243358|\n",
            "|female|     3|       0|23.818181818181817|         2.0|        48.0| 12.833464514612233|\n",
            "|female|     3|       1|19.329787234042552|        0.75|        63.0| 12.303245681590393|\n",
            "|  male|     1|       0| 44.58196721311475|        18.0|        71.0| 14.457748881905525|\n",
            "|  male|     1|       1|36.248000000000005|        0.92|        80.0| 14.936743749765334|\n",
            "|  male|     2|       0| 33.36904761904762|        16.0|        70.0|  12.15812461947834|\n",
            "|  male|     2|       1|            16.022|        0.67|        62.0| 19.547121527222362|\n",
            "|  male|     3|       0| 27.25581395348837|         1.0|        74.0| 12.135706609773328|\n",
            "|  male|     3|       1|22.274210526315787|        0.42|        45.0| 11.555786109267054|\n",
            "+------+------+--------+------------------+------------+------------+-------------------+\n",
            "\n"
          ]
        }
      ]
    },
    {
      "cell_type": "code",
      "source": [
        "# Registrar o dataset como uma view para usar como SQL\n",
        "titanic.createOrReplaceTempView('titanic_sql')"
      ],
      "metadata": {
        "id": "5w11zRGh_9b3"
      },
      "execution_count": 14,
      "outputs": []
    },
    {
      "cell_type": "code",
      "source": [
        "spark.sql(\"\"\"\n",
        "  SELECT  Name, Sex, Pclass, Age\n",
        "  FROM titanic_sql\n",
        "\"\"\").show()"
      ],
      "metadata": {
        "id": "qQ1mzFLn_9eb",
        "colab": {
          "base_uri": "https://localhost:8080/"
        },
        "outputId": "883c6ed9-87f8-497b-b1bd-1c56d4dce0c2"
      },
      "execution_count": 15,
      "outputs": [
        {
          "output_type": "stream",
          "name": "stdout",
          "text": [
            "+--------------------+------+------+----+\n",
            "|                Name|   Sex|Pclass| Age|\n",
            "+--------------------+------+------+----+\n",
            "|Braund, Mr. Owen ...|  male|     3|22.0|\n",
            "|Cumings, Mrs. Joh...|female|     1|38.0|\n",
            "|Heikkinen, Miss. ...|female|     3|26.0|\n",
            "|Futrelle, Mrs. Ja...|female|     1|35.0|\n",
            "|Allen, Mr. Willia...|  male|     3|35.0|\n",
            "|    Moran, Mr. James|  male|     3|NULL|\n",
            "|McCarthy, Mr. Tim...|  male|     1|54.0|\n",
            "|Palsson, Master. ...|  male|     3| 2.0|\n",
            "|Johnson, Mrs. Osc...|female|     3|27.0|\n",
            "|Nasser, Mrs. Nich...|female|     2|14.0|\n",
            "|Sandstrom, Miss. ...|female|     3| 4.0|\n",
            "|Bonnell, Miss. El...|female|     1|58.0|\n",
            "|Saundercock, Mr. ...|  male|     3|20.0|\n",
            "|Andersson, Mr. An...|  male|     3|39.0|\n",
            "|Vestrom, Miss. Hu...|female|     3|14.0|\n",
            "|Hewlett, Mrs. (Ma...|female|     2|55.0|\n",
            "|Rice, Master. Eugene|  male|     3| 2.0|\n",
            "|Williams, Mr. Cha...|  male|     2|NULL|\n",
            "|Vander Planke, Mr...|female|     3|31.0|\n",
            "|Masselmani, Mrs. ...|female|     3|NULL|\n",
            "+--------------------+------+------+----+\n",
            "only showing top 20 rows\n",
            "\n"
          ]
        }
      ]
    },
    {
      "cell_type": "code",
      "source": [
        "spark.sql(\"\"\"\n",
        "  SELECT  Name, Sex, Pclass, Age\n",
        "  FROM titanic_sql\n",
        "  WHERE Sex = 'male'\n",
        "\"\"\").show()"
      ],
      "metadata": {
        "id": "NMOlsnCO_9hu",
        "colab": {
          "base_uri": "https://localhost:8080/"
        },
        "outputId": "0068e445-e907-4345-87a1-93256e51866d"
      },
      "execution_count": 16,
      "outputs": [
        {
          "output_type": "stream",
          "name": "stdout",
          "text": [
            "+--------------------+----+------+----+\n",
            "|                Name| Sex|Pclass| Age|\n",
            "+--------------------+----+------+----+\n",
            "|Braund, Mr. Owen ...|male|     3|22.0|\n",
            "|Allen, Mr. Willia...|male|     3|35.0|\n",
            "|    Moran, Mr. James|male|     3|NULL|\n",
            "|McCarthy, Mr. Tim...|male|     1|54.0|\n",
            "|Palsson, Master. ...|male|     3| 2.0|\n",
            "|Saundercock, Mr. ...|male|     3|20.0|\n",
            "|Andersson, Mr. An...|male|     3|39.0|\n",
            "|Rice, Master. Eugene|male|     3| 2.0|\n",
            "|Williams, Mr. Cha...|male|     2|NULL|\n",
            "|Fynney, Mr. Joseph J|male|     2|35.0|\n",
            "|Beesley, Mr. Lawr...|male|     2|34.0|\n",
            "|Sloper, Mr. Willi...|male|     1|28.0|\n",
            "|Emir, Mr. Farred ...|male|     3|NULL|\n",
            "|Fortune, Mr. Char...|male|     1|19.0|\n",
            "| Todoroff, Mr. Lalio|male|     3|NULL|\n",
            "|Uruchurtu, Don. M...|male|     1|40.0|\n",
            "|Wheadon, Mr. Edwa...|male|     2|66.0|\n",
            "|Meyer, Mr. Edgar ...|male|     1|28.0|\n",
            "|Holverson, Mr. Al...|male|     1|42.0|\n",
            "|    Mamee, Mr. Hanna|male|     3|NULL|\n",
            "+--------------------+----+------+----+\n",
            "only showing top 20 rows\n",
            "\n"
          ]
        }
      ]
    },
    {
      "cell_type": "code",
      "source": [
        "spark.sql(\"\"\"\n",
        "  SELECT\n",
        "    Name, Sex, Pclass, Age\n",
        "  FROM titanic_sql\n",
        "  WHERE\n",
        "    Sex = 'male' and Pclass = 1\n",
        "\"\"\").show(truncate = False)"
      ],
      "metadata": {
        "id": "my3I2rgz_9km",
        "colab": {
          "base_uri": "https://localhost:8080/"
        },
        "outputId": "d4f86767-82da-4cb0-f39c-f584ef64c2b6"
      },
      "execution_count": 17,
      "outputs": [
        {
          "output_type": "stream",
          "name": "stdout",
          "text": [
            "+-------------------------------+----+------+----+\n",
            "|Name                           |Sex |Pclass|Age |\n",
            "+-------------------------------+----+------+----+\n",
            "|McCarthy, Mr. Timothy J        |male|1     |54.0|\n",
            "|Sloper, Mr. William Thompson   |male|1     |28.0|\n",
            "|Fortune, Mr. Charles Alexander |male|1     |19.0|\n",
            "|Uruchurtu, Don. Manuel E       |male|1     |40.0|\n",
            "|Meyer, Mr. Edgar Joseph        |male|1     |28.0|\n",
            "|Holverson, Mr. Alexander Oskar |male|1     |42.0|\n",
            "|Ostby, Mr. Engelhart Cornelius |male|1     |65.0|\n",
            "|Woolner, Mr. Hugh              |male|1     |NULL|\n",
            "|Harris, Mr. Henry Birkhardt    |male|1     |45.0|\n",
            "|Stewart, Mr. Albert A          |male|1     |NULL|\n",
            "|Carrau, Mr. Francisco M        |male|1     |28.0|\n",
            "|Chaffee, Mr. Herbert Fuller    |male|1     |46.0|\n",
            "|Goldschmidt, Mr. George B      |male|1     |71.0|\n",
            "|Greenfield, Mr. William Bertram|male|1     |23.0|\n",
            "|White, Mr. Richard Frasar      |male|1     |21.0|\n",
            "|Porter, Mr. Walter Chamberlain |male|1     |47.0|\n",
            "|Baxter, Mr. Quigg Edmond       |male|1     |24.0|\n",
            "|White, Mr. Percival Wayland    |male|1     |54.0|\n",
            "|Futrelle, Mr. Jacques Heath    |male|1     |37.0|\n",
            "|Giglio, Mr. Victor             |male|1     |24.0|\n",
            "+-------------------------------+----+------+----+\n",
            "only showing top 20 rows\n",
            "\n"
          ]
        }
      ]
    },
    {
      "cell_type": "code",
      "source": [
        "spark.sql(\"\"\"\n",
        "  SELECT\n",
        "    AVG(Age) as idade_media,\n",
        "    MIN(Age) as idade_minima,\n",
        "    Max(Age) as idade_maxima,\n",
        "    STDDEV(Age) as desvio_padrao\n",
        "  FROM titanic_sql\n",
        "\"\"\").show()"
      ],
      "metadata": {
        "id": "zFSinALX_9pH",
        "colab": {
          "base_uri": "https://localhost:8080/"
        },
        "outputId": "b274527c-c86f-4b18-bc7c-5766a4b6879d"
      },
      "execution_count": 18,
      "outputs": [
        {
          "output_type": "stream",
          "name": "stdout",
          "text": [
            "+-----------------+------------+------------+------------------+\n",
            "|      idade_media|idade_minima|idade_maxima|     desvio_padrao|\n",
            "+-----------------+------------+------------+------------------+\n",
            "|29.69911764705882|        0.42|        80.0|14.526497332334035|\n",
            "+-----------------+------------+------------+------------------+\n",
            "\n"
          ]
        }
      ]
    },
    {
      "cell_type": "code",
      "source": [
        "spark.sql(\"\"\"\n",
        "  SELECT\n",
        "    Sex, Pclass, Survived,\n",
        "    AVG(Age) as idade_media,\n",
        "     Max(Age) as idade_maxima,\n",
        "    STDDEV(Age) as desvio_padrao\n",
        "  FROM titanic_sql\n",
        "  GROUP BY Sex, Pclass, Survived\n",
        "  ORDER BY Sex, Pclass, Survived\n",
        "\"\"\").show(truncate = False)"
      ],
      "metadata": {
        "colab": {
          "base_uri": "https://localhost:8080/"
        },
        "id": "ojP3Z0k3rm1a",
        "outputId": "6b4e04d6-ced4-4b09-f0d2-54d8e1e03dfb"
      },
      "execution_count": 19,
      "outputs": [
        {
          "output_type": "stream",
          "name": "stdout",
          "text": [
            "+------+------+--------+------------------+------------+------------------+\n",
            "|Sex   |Pclass|Survived|idade_media       |idade_maxima|desvio_padrao     |\n",
            "+------+------+--------+------------------+------------+------------------+\n",
            "|female|1     |0       |25.666666666666668|50.0        |24.00694344004112 |\n",
            "|female|1     |1       |34.9390243902439  |63.0        |13.223013572001038|\n",
            "|female|2     |0       |36.0              |57.0        |12.915107432770352|\n",
            "|female|2     |1       |28.080882352941178|55.0        |12.76469311243358 |\n",
            "|female|3     |0       |23.818181818181817|48.0        |12.833464514612233|\n",
            "|female|3     |1       |19.329787234042552|63.0        |12.303245681590393|\n",
            "|male  |1     |0       |44.58196721311475 |71.0        |14.457748881905525|\n",
            "|male  |1     |1       |36.248000000000005|80.0        |14.936743749765334|\n",
            "|male  |2     |0       |33.36904761904762 |70.0        |12.15812461947834 |\n",
            "|male  |2     |1       |16.022            |62.0        |19.547121527222362|\n",
            "|male  |3     |0       |27.25581395348837 |74.0        |12.135706609773328|\n",
            "|male  |3     |1       |22.274210526315787|45.0        |11.555786109267054|\n",
            "+------+------+--------+------------------+------------+------------------+\n",
            "\n"
          ]
        }
      ]
    },
    {
      "cell_type": "markdown",
      "source": [
        "## Perguntas\n",
        "1. Quantos passageiros sobreviveram ao naufrágio do titanic?\n",
        "2. Quantos sobreviveram entre homens e mulheres?\n",
        "3. Quantos sobreviveram entre pessoas que voiajavam em classes diferentes?\n",
        "4. Quantas pessoas sobreviveram ao naufrágio por sexo, classe de viagem e que tinha idade maior do que a média de todo o navio?"
      ],
      "metadata": {
        "id": "ZOvU20un8bKa"
      }
    },
    {
      "cell_type": "markdown",
      "source": [
        "#Resposta da pergunta 1"
      ],
      "metadata": {
        "id": "_xBKKcZz-GZi"
      }
    },
    {
      "cell_type": "code",
      "source": [
        "titanic.where('Survived = 1').count()"
      ],
      "metadata": {
        "colab": {
          "base_uri": "https://localhost:8080/"
        },
        "id": "cuZVMn8F99Yv",
        "outputId": "823eccdf-20b7-45d0-973d-9586a2859cea"
      },
      "execution_count": 20,
      "outputs": [
        {
          "output_type": "execute_result",
          "data": {
            "text/plain": [
              "342"
            ]
          },
          "metadata": {},
          "execution_count": 20
        }
      ]
    },
    {
      "cell_type": "code",
      "source": [
        "spark.sql(\"\"\"\n",
        "  SELECT\n",
        "    Survived, COUNT(*) as total\n",
        "  FROM titanic_sql\n",
        "  WHERE Survived = 1\n",
        "  GROUP BY Survived\n",
        "\"\"\").show()"
      ],
      "metadata": {
        "colab": {
          "base_uri": "https://localhost:8080/"
        },
        "id": "cSHNnWft7qxl",
        "outputId": "f8626c18-7ee8-4cdd-f8e8-4ab4fd5c7f00"
      },
      "execution_count": 21,
      "outputs": [
        {
          "output_type": "stream",
          "name": "stdout",
          "text": [
            "+--------+-----+\n",
            "|Survived|total|\n",
            "+--------+-----+\n",
            "|       1|  342|\n",
            "+--------+-----+\n",
            "\n"
          ]
        }
      ]
    },
    {
      "cell_type": "markdown",
      "source": [
        "#Resposta da pergunta 2"
      ],
      "metadata": {
        "id": "MhxRfynU-gUN"
      }
    },
    {
      "cell_type": "code",
      "source": [
        "(\n",
        "    titanic\n",
        "    .where('Survived = 1')\n",
        "    .groupBy('Sex')\n",
        "    .count()\n",
        "    .show()\n",
        ")"
      ],
      "metadata": {
        "colab": {
          "base_uri": "https://localhost:8080/"
        },
        "id": "TtluBOUJ-e8A",
        "outputId": "ba67c909-3937-4010-83b4-1c7056493f8a"
      },
      "execution_count": 22,
      "outputs": [
        {
          "output_type": "stream",
          "name": "stdout",
          "text": [
            "+------+-----+\n",
            "|   Sex|count|\n",
            "+------+-----+\n",
            "|female|  233|\n",
            "|  male|  109|\n",
            "+------+-----+\n",
            "\n"
          ]
        }
      ]
    },
    {
      "cell_type": "code",
      "source": [
        "spark.sql(\"\"\"\n",
        "  SELECT\n",
        "    Sex, Survived, COUNT(*) as total\n",
        "  FROM titanic_sql\n",
        "  WHERE Survived = 1\n",
        "  GROUP BY Sex, Survived\n",
        "\"\"\").show()"
      ],
      "metadata": {
        "colab": {
          "base_uri": "https://localhost:8080/"
        },
        "id": "q206iYKF7rDV",
        "outputId": "ff718e19-dd0b-4b9d-efa8-df5096237df6"
      },
      "execution_count": 23,
      "outputs": [
        {
          "output_type": "stream",
          "name": "stdout",
          "text": [
            "+------+--------+-----+\n",
            "|   Sex|Survived|total|\n",
            "+------+--------+-----+\n",
            "|female|       1|  233|\n",
            "|  male|       1|  109|\n",
            "+------+--------+-----+\n",
            "\n"
          ]
        }
      ]
    },
    {
      "cell_type": "markdown",
      "source": [
        "#Resposta da pergunta 3"
      ],
      "metadata": {
        "id": "uRNNvlohACuA"
      }
    },
    {
      "cell_type": "code",
      "source": [
        "(\n",
        "    titanic\n",
        "    .where('Survived = 1')\n",
        "    .groupBy('Pclass')\n",
        "    .count()\n",
        "    .orderBy('Pclass')\n",
        "    .show()\n",
        ")"
      ],
      "metadata": {
        "colab": {
          "base_uri": "https://localhost:8080/"
        },
        "id": "kNID_KZV7rMD",
        "outputId": "04f159a3-badb-48d1-cf11-d107ad60c61b"
      },
      "execution_count": 24,
      "outputs": [
        {
          "output_type": "stream",
          "name": "stdout",
          "text": [
            "+------+-----+\n",
            "|Pclass|count|\n",
            "+------+-----+\n",
            "|     1|  136|\n",
            "|     2|   87|\n",
            "|     3|  119|\n",
            "+------+-----+\n",
            "\n"
          ]
        }
      ]
    },
    {
      "cell_type": "code",
      "source": [
        "spark.sql(\"\"\"\n",
        "  SELECT\n",
        "    Pclass, Survived, COUNT(*) as total\n",
        "  FROM titanic_sql\n",
        "  WHERE Survived = 1\n",
        "  GROUP BY Pclass, Survived\n",
        "  ORDER By Pclass\n",
        "\"\"\").show()"
      ],
      "metadata": {
        "colab": {
          "base_uri": "https://localhost:8080/"
        },
        "id": "bULz87jG7rXM",
        "outputId": "95b91ba5-5f47-41ca-ba4e-0724f4229bc4"
      },
      "execution_count": 25,
      "outputs": [
        {
          "output_type": "stream",
          "name": "stdout",
          "text": [
            "+------+--------+-----+\n",
            "|Pclass|Survived|total|\n",
            "+------+--------+-----+\n",
            "|     1|       1|  136|\n",
            "|     2|       1|   87|\n",
            "|     3|       1|  119|\n",
            "+------+--------+-----+\n",
            "\n"
          ]
        }
      ]
    },
    {
      "cell_type": "markdown",
      "source": [
        "#Resposta da pergunta 4"
      ],
      "metadata": {
        "id": "DS5-ODnBA7bY"
      }
    },
    {
      "cell_type": "code",
      "source": [
        "(\n",
        "    titanic\n",
        "    .where('Survived = 1 and Age > 29.69')\n",
        "    .groupBy('Sex', 'Pclass')\n",
        "    .count()\n",
        "    .orderBy('Sex', 'Pclass')\n",
        "    .show()\n",
        ")"
      ],
      "metadata": {
        "colab": {
          "base_uri": "https://localhost:8080/"
        },
        "id": "VfiVpX9y7rhG",
        "outputId": "6893251c-0a0a-49f6-8aea-8ccb2b49f71f"
      },
      "execution_count": 26,
      "outputs": [
        {
          "output_type": "stream",
          "name": "stdout",
          "text": [
            "+------+------+-----+\n",
            "|   Sex|Pclass|count|\n",
            "+------+------+-----+\n",
            "|female|     1|   54|\n",
            "|female|     2|   30|\n",
            "|female|     3|    8|\n",
            "|  male|     1|   27|\n",
            "|  male|     2|    5|\n",
            "|  male|     3|   10|\n",
            "+------+------+-----+\n",
            "\n"
          ]
        }
      ]
    },
    {
      "cell_type": "code",
      "source": [
        "spark.sql(\"\"\"\n",
        "  SELECT\n",
        "    Sex, Pclass, COUNT(*) as total\n",
        "  FROM titanic_sql\n",
        "  WHERE Survived = 1 AND Age > (SELECT AVG(Age) FROM titanic_sql)\n",
        "  GROUP BY Sex, Pclass\n",
        "  ORDER By Sex, Pclass\n",
        "\"\"\").show()"
      ],
      "metadata": {
        "colab": {
          "base_uri": "https://localhost:8080/"
        },
        "id": "DVwcmTRxA_1e",
        "outputId": "5795c76a-0f7f-49a2-f714-f4024c45301a"
      },
      "execution_count": 30,
      "outputs": [
        {
          "output_type": "stream",
          "name": "stdout",
          "text": [
            "+------+------+-----+\n",
            "|   Sex|Pclass|total|\n",
            "+------+------+-----+\n",
            "|female|     1|   54|\n",
            "|female|     2|   30|\n",
            "|female|     3|    8|\n",
            "|  male|     1|   27|\n",
            "|  male|     2|    5|\n",
            "|  male|     3|   10|\n",
            "+------+------+-----+\n",
            "\n"
          ]
        }
      ]
    }
  ]
}