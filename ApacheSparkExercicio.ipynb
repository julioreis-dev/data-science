{
  "nbformat": 4,
  "nbformat_minor": 0,
  "metadata": {
    "colab": {
      "provenance": [],
      "authorship_tag": "ABX9TyNgwgcQKsVjC6iV5r6vEdLy",
      "include_colab_link": true
    },
    "kernelspec": {
      "name": "python3",
      "display_name": "Python 3"
    },
    "language_info": {
      "name": "python"
    }
  },
  "cells": [
    {
      "cell_type": "markdown",
      "metadata": {
        "id": "view-in-github",
        "colab_type": "text"
      },
      "source": [
        "<a href=\"https://colab.research.google.com/github/julioreis-dev/data_science/blob/main/ApacheSparkExercicio.ipynb\" target=\"_parent\"><img src=\"https://colab.research.google.com/assets/colab-badge.svg\" alt=\"Open In Colab\"/></a>"
      ]
    },
    {
      "cell_type": "code",
      "execution_count": null,
      "metadata": {
        "id": "YRIC6VBFrrpw"
      },
      "outputs": [],
      "source": [
        "%%bash\n",
        "mkdir enem_files\n",
        "# instalar as dependências\n",
        "apt-get update && apt-get install openjdk-8-jdk-headless -qq > /dev/null\n",
        "\n",
        "# instalar pyspark\n",
        "pip install -q pyspark"
      ]
    },
    {
      "cell_type": "code",
      "source": [
        "%%sh\n",
        "\n",
        "mkdir microdados_enem_2020\n",
        "curl --insecure https://download.inep.gov.br/microdados/microdados_enem_2020.zip -o microdados_enem_2020/microdados.zip\n",
        "unzip microdados_enem_2020/microdados.zip -d microdados_enem_2020/\n",
        "rm microdados_enem_2020/microdados.zip"
      ],
      "metadata": {
        "id": "BdxNmU8fgUGN"
      },
      "execution_count": null,
      "outputs": []
    },
    {
      "cell_type": "code",
      "source": [
        "import os\n",
        "import zipfile\n",
        "import requests\n",
        "from io import BytesIO\n",
        "\n",
        "os.environ[\"JAVA_HOME\"] = \"/usr/lib/jvm/java-8-openjdk-amd64\"\n",
        "# url = \"https://download.inep.gov.br/microdados/microdados_enem_2020.zip\"\n",
        "\n",
        "# filebytes = BytesIO(\n",
        "#     requests.get(url).content\n",
        "# )\n",
        "# myzip = zipfile.ZipFile(filebytes)\n",
        "# myzip.extractall(\"./enem\")"
      ],
      "metadata": {
        "id": "_D31dDTervxK"
      },
      "execution_count": 110,
      "outputs": []
    },
    {
      "cell_type": "code",
      "source": [
        "from pyspark.sql import SparkSession\n",
        "from pyspark.sql import functions as functions\n",
        "\n",
        "spark = SparkSession.builder.getOrCreate()"
      ],
      "metadata": {
        "id": "Oi4iWPbBrx_s"
      },
      "execution_count": 112,
      "outputs": []
    },
    {
      "cell_type": "code",
      "source": [
        "enem = (\n",
        "    spark\n",
        "    .read\n",
        "    .csv(\"enem_files\", header=True, sep=\";\", inferSchema=True, encoding='ISO-8859-1')\n",
        ")\n",
        "enem.printSchema()"
      ],
      "metadata": {
        "id": "m_QSTwpT0a3q",
        "colab": {
          "base_uri": "https://localhost:8080/"
        },
        "outputId": "09253281-bac3-409c-a1ae-8742dda07274"
      },
      "execution_count": 113,
      "outputs": [
        {
          "output_type": "stream",
          "name": "stdout",
          "text": [
            "root\n",
            " |-- NU_INSCRICAO: long (nullable = true)\n",
            " |-- NU_ANO: integer (nullable = true)\n",
            " |-- TP_FAIXA_ETARIA: integer (nullable = true)\n",
            " |-- TP_SEXO: string (nullable = true)\n",
            " |-- TP_ESTADO_CIVIL: integer (nullable = true)\n",
            " |-- TP_COR_RACA: integer (nullable = true)\n",
            " |-- TP_NACIONALIDADE: integer (nullable = true)\n",
            " |-- TP_ST_CONCLUSAO: integer (nullable = true)\n",
            " |-- TP_ANO_CONCLUIU: integer (nullable = true)\n",
            " |-- TP_ESCOLA: integer (nullable = true)\n",
            " |-- TP_ENSINO: integer (nullable = true)\n",
            " |-- IN_TREINEIRO: integer (nullable = true)\n",
            " |-- CO_MUNICIPIO_ESC: integer (nullable = true)\n",
            " |-- NO_MUNICIPIO_ESC: string (nullable = true)\n",
            " |-- CO_UF_ESC: integer (nullable = true)\n",
            " |-- SG_UF_ESC: string (nullable = true)\n",
            " |-- TP_DEPENDENCIA_ADM_ESC: integer (nullable = true)\n",
            " |-- TP_LOCALIZACAO_ESC: integer (nullable = true)\n",
            " |-- TP_SIT_FUNC_ESC: integer (nullable = true)\n",
            " |-- CO_MUNICIPIO_PROVA: integer (nullable = true)\n",
            " |-- NO_MUNICIPIO_PROVA: string (nullable = true)\n",
            " |-- CO_UF_PROVA: integer (nullable = true)\n",
            " |-- SG_UF_PROVA: string (nullable = true)\n",
            " |-- TP_PRESENCA_CN: integer (nullable = true)\n",
            " |-- TP_PRESENCA_CH: integer (nullable = true)\n",
            " |-- TP_PRESENCA_LC: integer (nullable = true)\n",
            " |-- TP_PRESENCA_MT: integer (nullable = true)\n",
            " |-- CO_PROVA_CN: integer (nullable = true)\n",
            " |-- CO_PROVA_CH: integer (nullable = true)\n",
            " |-- CO_PROVA_LC: integer (nullable = true)\n",
            " |-- CO_PROVA_MT: integer (nullable = true)\n",
            " |-- NU_NOTA_CN: double (nullable = true)\n",
            " |-- NU_NOTA_CH: double (nullable = true)\n",
            " |-- NU_NOTA_LC: double (nullable = true)\n",
            " |-- NU_NOTA_MT: double (nullable = true)\n",
            " |-- TX_RESPOSTAS_CN: string (nullable = true)\n",
            " |-- TX_RESPOSTAS_CH: string (nullable = true)\n",
            " |-- TX_RESPOSTAS_LC: string (nullable = true)\n",
            " |-- TX_RESPOSTAS_MT: string (nullable = true)\n",
            " |-- TP_LINGUA: integer (nullable = true)\n",
            " |-- TX_GABARITO_CN: string (nullable = true)\n",
            " |-- TX_GABARITO_CH: string (nullable = true)\n",
            " |-- TX_GABARITO_LC: string (nullable = true)\n",
            " |-- TX_GABARITO_MT: string (nullable = true)\n",
            " |-- TP_STATUS_REDACAO: integer (nullable = true)\n",
            " |-- NU_NOTA_COMP1: integer (nullable = true)\n",
            " |-- NU_NOTA_COMP2: integer (nullable = true)\n",
            " |-- NU_NOTA_COMP3: integer (nullable = true)\n",
            " |-- NU_NOTA_COMP4: integer (nullable = true)\n",
            " |-- NU_NOTA_COMP5: integer (nullable = true)\n",
            " |-- NU_NOTA_REDACAO: integer (nullable = true)\n",
            " |-- Q001: string (nullable = true)\n",
            " |-- Q002: string (nullable = true)\n",
            " |-- Q003: string (nullable = true)\n",
            " |-- Q004: string (nullable = true)\n",
            " |-- Q005: integer (nullable = true)\n",
            " |-- Q006: string (nullable = true)\n",
            " |-- Q007: string (nullable = true)\n",
            " |-- Q008: string (nullable = true)\n",
            " |-- Q009: string (nullable = true)\n",
            " |-- Q010: string (nullable = true)\n",
            " |-- Q011: string (nullable = true)\n",
            " |-- Q012: string (nullable = true)\n",
            " |-- Q013: string (nullable = true)\n",
            " |-- Q014: string (nullable = true)\n",
            " |-- Q015: string (nullable = true)\n",
            " |-- Q016: string (nullable = true)\n",
            " |-- Q017: string (nullable = true)\n",
            " |-- Q018: string (nullable = true)\n",
            " |-- Q019: string (nullable = true)\n",
            " |-- Q020: string (nullable = true)\n",
            " |-- Q021: string (nullable = true)\n",
            " |-- Q022: string (nullable = true)\n",
            " |-- Q023: string (nullable = true)\n",
            " |-- Q024: string (nullable = true)\n",
            " |-- Q025: string (nullable = true)\n",
            "\n"
          ]
        }
      ]
    },
    {
      "cell_type": "code",
      "source": [
        "enem.show()"
      ],
      "metadata": {
        "colab": {
          "base_uri": "https://localhost:8080/"
        },
        "id": "h1guYxrx0xzG",
        "outputId": "99487f98-866a-4329-98c2-4c095fd8103f"
      },
      "execution_count": 114,
      "outputs": [
        {
          "output_type": "stream",
          "name": "stdout",
          "text": [
            "+------------+------+---------------+-------+---------------+-----------+----------------+---------------+---------------+---------+---------+------------+----------------+-------------------+---------+---------+----------------------+------------------+---------------+------------------+--------------------+-----------+-----------+--------------+--------------+--------------+--------------+-----------+-----------+-----------+-----------+----------+----------+----------+----------+--------------------+--------------------+--------------------+--------------------+---------+--------------------+--------------------+--------------------+--------------------+-----------------+-------------+-------------+-------------+-------------+-------------+---------------+----+----+----+----+----+----+----+----+----+----+----+----+----+----+----+----+----+----+----+----+----+----+----+----+----+\n",
            "|NU_INSCRICAO|NU_ANO|TP_FAIXA_ETARIA|TP_SEXO|TP_ESTADO_CIVIL|TP_COR_RACA|TP_NACIONALIDADE|TP_ST_CONCLUSAO|TP_ANO_CONCLUIU|TP_ESCOLA|TP_ENSINO|IN_TREINEIRO|CO_MUNICIPIO_ESC|   NO_MUNICIPIO_ESC|CO_UF_ESC|SG_UF_ESC|TP_DEPENDENCIA_ADM_ESC|TP_LOCALIZACAO_ESC|TP_SIT_FUNC_ESC|CO_MUNICIPIO_PROVA|  NO_MUNICIPIO_PROVA|CO_UF_PROVA|SG_UF_PROVA|TP_PRESENCA_CN|TP_PRESENCA_CH|TP_PRESENCA_LC|TP_PRESENCA_MT|CO_PROVA_CN|CO_PROVA_CH|CO_PROVA_LC|CO_PROVA_MT|NU_NOTA_CN|NU_NOTA_CH|NU_NOTA_LC|NU_NOTA_MT|     TX_RESPOSTAS_CN|     TX_RESPOSTAS_CH|     TX_RESPOSTAS_LC|     TX_RESPOSTAS_MT|TP_LINGUA|      TX_GABARITO_CN|      TX_GABARITO_CH|      TX_GABARITO_LC|      TX_GABARITO_MT|TP_STATUS_REDACAO|NU_NOTA_COMP1|NU_NOTA_COMP2|NU_NOTA_COMP3|NU_NOTA_COMP4|NU_NOTA_COMP5|NU_NOTA_REDACAO|Q001|Q002|Q003|Q004|Q005|Q006|Q007|Q008|Q009|Q010|Q011|Q012|Q013|Q014|Q015|Q016|Q017|Q018|Q019|Q020|Q021|Q022|Q023|Q024|Q025|\n",
            "+------------+------+---------------+-------+---------------+-----------+----------------+---------------+---------------+---------+---------+------------+----------------+-------------------+---------+---------+----------------------+------------------+---------------+------------------+--------------------+-----------+-----------+--------------+--------------+--------------+--------------+-----------+-----------+-----------+-----------+----------+----------+----------+----------+--------------------+--------------------+--------------------+--------------------+---------+--------------------+--------------------+--------------------+--------------------+-----------------+-------------+-------------+-------------+-------------+-------------+---------------+----+----+----+----+----+----+----+----+----+----+----+----+----+----+----+----+----+----+----+----+----+----+----+----+----+\n",
            "|200006271946|  2020|             11|      F|              1|          2|               1|              1|             11|        1|     NULL|           0|            NULL|               NULL|     NULL|     NULL|                  NULL|              NULL|           NULL|           1501402|               Belém|         15|         PA|             0|             0|             0|             0|       NULL|       NULL|       NULL|       NULL|      NULL|      NULL|      NULL|      NULL|                NULL|                NULL|                NULL|                NULL|        1|                NULL|                NULL|                NULL|                NULL|             NULL|         NULL|         NULL|         NULL|         NULL|         NULL|           NULL|NULL|NULL|NULL|NULL|NULL|NULL|NULL|NULL|NULL|NULL|NULL|NULL|NULL|NULL|NULL|NULL|NULL|NULL|NULL|NULL|NULL|NULL|NULL|NULL|NULL|\n",
            "|200001195856|  2020|             11|      M|              2|          3|               1|              1|             11|        1|     NULL|           0|            NULL|               NULL|     NULL|     NULL|                  NULL|              NULL|           NULL|           2408102|               Natal|         24|         RN|             1|             1|             1|             1|        702|        689|        693|        698|     604.1|     661.7|     595.3|     711.3|BCBDBDCCCDBDDBADE...|BCAECABCDCEBDBBBD...|99999CADDEDADBAAB...|EBEBDEDAECBADCADD...|        1|ABBACBCCCDDDDBAEE...|BCEECDBCCDEBDBBBB...|99999CBDDEDBDBACE...|BBEADECAECBBXCEBA...|                1|          120|          120|          120|          120|          100|            580|NULL|NULL|NULL|NULL|NULL|NULL|NULL|NULL|NULL|NULL|NULL|NULL|NULL|NULL|NULL|NULL|NULL|NULL|NULL|NULL|NULL|NULL|NULL|NULL|NULL|\n",
            "|200001943954|  2020|              4|      F|              2|          3|               2|              2|              0|        2|        1|           0|         2927408|           Salvador|       29|       BA|                     2|                 1|              1|           2927408|            Salvador|         29|         BA|             0|             0|             0|             0|       NULL|       NULL|       NULL|       NULL|      NULL|      NULL|      NULL|      NULL|                NULL|                NULL|                NULL|                NULL|        0|                NULL|                NULL|                NULL|                NULL|             NULL|         NULL|         NULL|         NULL|         NULL|         NULL|           NULL|   B|   C|   A|   D|   3|   B|   A|   B|   A|   A|   A|   B|   A|   B|   A|   B|   A|   A|   B|   A|   A|   A|   A|   A|   A|\n",
            "|200001908998|  2020|              2|      M|              1|          3|               1|              2|              0|        2|        1|           0|         3547304|Santana de Parnaíba|       35|       SP|                     3|                 1|              1|           3547304| Santana de Parnaíba|         35|         SP|             1|             1|             1|             1|        700|        688|        692|        696|     620.8|     675.0|     624.2|     759.4|EBEDCCCDCBDBAECAE...|DABCCACCBCCDCADBD...|DCEAB99999AADAECC...|CBDBDCCDDEECBAABB...|        0|BDECCACBEBDEAEDAE...|DABCCAECBABECADBD...|DCEAD99999AADACCC...|EBDBXCCDAEECBAABA...|                1|          140|          200|          140|          120|          160|            760|NULL|NULL|NULL|NULL|NULL|NULL|NULL|NULL|NULL|NULL|NULL|NULL|NULL|NULL|NULL|NULL|NULL|NULL|NULL|NULL|NULL|NULL|NULL|NULL|NULL|\n",
            "|200001634757|  2020|              4|      F|              1|          3|               2|              1|              1|        1|     NULL|           0|            NULL|               NULL|     NULL|     NULL|                  NULL|              NULL|           NULL|           3121605|          Diamantina|         31|         MG|             0|             0|             0|             0|       NULL|       NULL|       NULL|       NULL|      NULL|      NULL|      NULL|      NULL|                NULL|                NULL|                NULL|                NULL|        1|                NULL|                NULL|                NULL|                NULL|             NULL|         NULL|         NULL|         NULL|         NULL|         NULL|           NULL|   B|   G|   B|   B|   3|   B|   A|   B|   D|   A|   A|   B|   A|   B|   A|   A|   A|   A|   B|   A|   B|   B|   A|   A|   B|\n",
            "|200003132410|  2020|              3|      F|              1|          3|               1|              1|              1|        1|     NULL|           0|            NULL|               NULL|     NULL|     NULL|                  NULL|              NULL|           NULL|           4305207|         Cerro Largo|         43|         RS|             1|             1|             1|             1|        598|        567|        577|        588|     498.1|     604.7|     505.4|     526.7|CABBEEACAEBEBCCDA...|ACEBBDDCADDAACEEA...|99999CBECEBEDBEEC...|BADCAAAEEDBEDBACE...|        1|CEDBDDDCACCBDAEBA...|DABCBDDDAEDBECECB...|AAEDCACEEECEAACBA...|AEBCCXCCCACCDABCC...|                1|          140|          120|          140|          140|          160|            700|   C|   B|   C|   B|   5|   C|   A|   B|   E|   A|   A|   B|   A|   A|   A|   B|   A|   A|   B|   B|   A|   D|   A|   B|   B|\n",
            "|200001379770|  2020|              9|      M|              1|          3|               1|              1|              6|        1|     NULL|           0|            NULL|               NULL|     NULL|     NULL|                  NULL|              NULL|           NULL|           2611606|              Recife|         26|         PE|             0|             0|             0|             0|       NULL|       NULL|       NULL|       NULL|      NULL|      NULL|      NULL|      NULL|                NULL|                NULL|                NULL|                NULL|        0|                NULL|                NULL|                NULL|                NULL|             NULL|         NULL|         NULL|         NULL|         NULL|         NULL|           NULL|NULL|NULL|NULL|NULL|NULL|NULL|NULL|NULL|NULL|NULL|NULL|NULL|NULL|NULL|NULL|NULL|NULL|NULL|NULL|NULL|NULL|NULL|NULL|NULL|NULL|\n",
            "|200001334237|  2020|              4|      M|              1|          1|               1|              1|              1|        1|     NULL|           0|            NULL|               NULL|     NULL|     NULL|                  NULL|              NULL|           NULL|           3550308|           São Paulo|         35|         SP|             1|             1|             1|             1|        699|        687|        691|        695|     604.6|     604.8|     562.1|     753.2|CECACBBCADACADDEE...|EAADABBEABCADDBAA...|CADDE99999AEEADBA...|BABADDBDAEBAEBBBE...|        0|DEAAECBBCDCBAEBEE...|EAAADBBEDBDACDBCC...|CADDE99999DEBBBBB...|BABBDABAEEBACBACD...|                1|          140|          120|          120|          120|          100|            600|NULL|NULL|NULL|NULL|NULL|NULL|NULL|NULL|NULL|NULL|NULL|NULL|NULL|NULL|NULL|NULL|NULL|NULL|NULL|NULL|NULL|NULL|NULL|NULL|NULL|\n",
            "|200006762554|  2020|              5|      F|              2|          3|               1|              1|              3|        1|     NULL|           0|            NULL|               NULL|     NULL|     NULL|                  NULL|              NULL|           NULL|           2507507|         João Pessoa|         25|         PB|             1|             1|             1|             1|        598|        567|        577|        588|     439.7|     383.5|     486.2|     448.5|DABCDCAEDEDCBEDCD...|ECCAEAEACDDABCBDA...|99999DDCBBABECCAC...|EEDCCEACEBAAAADCD...|        1|CEDBDDDCACCBDAEBA...|DABCBDDDAEDBECECB...|AAEDCACEEECEAACBA...|AEBCCXCCCACCDABCC...|                1|          120|          120|          120|          140|          100|            600|   B|   C|   C|   B|   2|   B|   A|   B|   C|   A|   A|   B|   A|   B|   A|   A|   A|   A|   B|   A|   A|   C|   A|   A|   A|\n",
            "|200005146210|  2020|              2|      M|              1|          2|               1|              2|              0|        2|        1|           0|            NULL|               NULL|     NULL|     NULL|                  NULL|              NULL|           NULL|           2304400|           Fortaleza|         23|         CE|             0|             0|             0|             0|       NULL|       NULL|       NULL|       NULL|      NULL|      NULL|      NULL|      NULL|                NULL|                NULL|                NULL|                NULL|        0|                NULL|                NULL|                NULL|                NULL|             NULL|         NULL|         NULL|         NULL|         NULL|         NULL|           NULL|   A|   A|   B|   A|   4|   B|   A|   B|   B|   A|   A|   B|   A|   A|   A|   A|   A|   A|   B|   A|   A|   A|   A|   A|   B|\n",
            "|200004902048|  2020|              6|      M|              1|          1|               1|              1|              3|        1|     NULL|           0|            NULL|               NULL|     NULL|     NULL|                  NULL|              NULL|           NULL|           3550308|           São Paulo|         35|         SP|             0|             0|             0|             0|       NULL|       NULL|       NULL|       NULL|      NULL|      NULL|      NULL|      NULL|                NULL|                NULL|                NULL|                NULL|        0|                NULL|                NULL|                NULL|                NULL|             NULL|         NULL|         NULL|         NULL|         NULL|         NULL|           NULL|   B|   B|   B|   B|   7|   B|   A|   B|   C|   A|   A|   B|   A|   A|   A|   B|   A|   A|   B|   A|   A|   C|   B|   B|   B|\n",
            "|200006138472|  2020|              7|      M|              1|          1|               1|              1|              0|        1|     NULL|           0|            NULL|               NULL|     NULL|     NULL|                  NULL|              NULL|           NULL|           2910727|           Eunápolis|         29|         BA|             1|             1|             1|             1|        598|        567|        577|        588|     491.1|     631.4|     627.9|     546.5|BAEACEDBACDDEDECE...|CDEABDDDABDBEABCA...|AACDC99999ABDBEDA...|EBCDBEBABDBBDABCB...|        0|CEDBDDDCACCBDAEBA...|DABCBDDDAEDBECECB...|AAEDCACEEECEAACBA...|AEBCCXCCCACCDABCC...|                1|          140|          120|          140|          120|          120|            640|   B|   C|   C|   B|   5|   B|   A|   B|   C|   A|   A|   B|   A|   A|   A|   A|   B|   A|   B|   A|   A|   C|   A|   B|   B|\n",
            "|200005613689|  2020|              3|      F|              1|          3|               1|              1|              1|        1|     NULL|           0|            NULL|               NULL|     NULL|     NULL|                  NULL|              NULL|           NULL|           5008305|         Três Lagoas|         50|         MS|             0|             0|             0|             0|       NULL|       NULL|       NULL|       NULL|      NULL|      NULL|      NULL|      NULL|                NULL|                NULL|                NULL|                NULL|        0|                NULL|                NULL|                NULL|                NULL|             NULL|         NULL|         NULL|         NULL|         NULL|         NULL|           NULL|   D|   E|   A|   A|   3|   B|   A|   B|   C|   A|   A|   B|   A|   A|   A|   A|   A|   A|   A|   A|   A|   C|   A|   A|   A|\n",
            "|200004833505|  2020|             11|      F|              2|          2|               1|              1|             12|        1|     NULL|           0|            NULL|               NULL|     NULL|     NULL|                  NULL|              NULL|           NULL|           3547809|         Santo André|         35|         SP|             0|             0|             0|             0|       NULL|       NULL|       NULL|       NULL|      NULL|      NULL|      NULL|      NULL|                NULL|                NULL|                NULL|                NULL|        1|                NULL|                NULL|                NULL|                NULL|             NULL|         NULL|         NULL|         NULL|         NULL|         NULL|           NULL|NULL|NULL|NULL|NULL|NULL|NULL|NULL|NULL|NULL|NULL|NULL|NULL|NULL|NULL|NULL|NULL|NULL|NULL|NULL|NULL|NULL|NULL|NULL|NULL|NULL|\n",
            "|200004570764|  2020|             11|      M|              1|          2|               1|              1|              0|        1|     NULL|           0|            NULL|               NULL|     NULL|     NULL|                  NULL|              NULL|           NULL|           2604007|             Carpina|         26|         PE|             0|             0|             0|             0|       NULL|       NULL|       NULL|       NULL|      NULL|      NULL|      NULL|      NULL|                NULL|                NULL|                NULL|                NULL|        1|                NULL|                NULL|                NULL|                NULL|             NULL|         NULL|         NULL|         NULL|         NULL|         NULL|           NULL|   H|   B|   F|   B|   3|   B|   A|   C|   D|   A|   A|   B|   A|   A|   A|   A|   A|   A|   B|   A|   A|   B|   A|   B|   B|\n",
            "|200001071590|  2020|              5|      F|              1|          3|               1|              1|              0|        1|     NULL|           0|            NULL|               NULL|     NULL|     NULL|                  NULL|              NULL|           NULL|           2800308|             Aracaju|         28|         SE|             0|             0|             0|             0|       NULL|       NULL|       NULL|       NULL|      NULL|      NULL|      NULL|      NULL|                NULL|                NULL|                NULL|                NULL|        1|                NULL|                NULL|                NULL|                NULL|             NULL|         NULL|         NULL|         NULL|         NULL|         NULL|           NULL|NULL|NULL|NULL|NULL|NULL|NULL|NULL|NULL|NULL|NULL|NULL|NULL|NULL|NULL|NULL|NULL|NULL|NULL|NULL|NULL|NULL|NULL|NULL|NULL|NULL|\n",
            "|200001934470|  2020|              7|      F|              1|          3|               1|              1|              4|        1|     NULL|           0|            NULL|               NULL|     NULL|     NULL|                  NULL|              NULL|           NULL|           2933307|Vitória da Conquista|         29|         BA|             0|             0|             0|             0|       NULL|       NULL|       NULL|       NULL|      NULL|      NULL|      NULL|      NULL|                NULL|                NULL|                NULL|                NULL|        1|                NULL|                NULL|                NULL|                NULL|             NULL|         NULL|         NULL|         NULL|         NULL|         NULL|           NULL|   A|   B|   F|   F|   3|   B|   A|   B|   C|   A|   A|   B|   B|   A|   A|   A|   A|   A|   B|   A|   A|   C|   A|   B|   B|\n",
            "|200006066678|  2020|              4|      M|              1|          1|               1|              1|              1|        1|     NULL|           0|            NULL|               NULL|     NULL|     NULL|                  NULL|              NULL|           NULL|           4106902|            Curitiba|         41|         PR|             0|             0|             0|             0|       NULL|       NULL|       NULL|       NULL|      NULL|      NULL|      NULL|      NULL|                NULL|                NULL|                NULL|                NULL|        0|                NULL|                NULL|                NULL|                NULL|             NULL|         NULL|         NULL|         NULL|         NULL|         NULL|           NULL|NULL|NULL|NULL|NULL|NULL|NULL|NULL|NULL|NULL|NULL|NULL|NULL|NULL|NULL|NULL|NULL|NULL|NULL|NULL|NULL|NULL|NULL|NULL|NULL|NULL|\n",
            "|200003343448|  2020|              7|      F|              1|          3|               1|              1|              3|        1|     NULL|           0|            NULL|               NULL|     NULL|     NULL|                  NULL|              NULL|           NULL|           2704302|              Maceió|         27|         AL|             1|             1|             1|             1|        597|        569|        580|        587|     422.4|     488.1|     559.1|     420.3|BDCEDABCECACBDCBB...|CAEADAEEDEDBDDCAB...|CADAA99999ABCBEBD...|BBCCDBEADABBE*CED...|        0|DDBACBDDDECDAEDCC...|DECCADEBDECBBECDD...|DCEAAEEEACAACBBEB...|DABCCAEDBBCCCABCA...|                1|          140|          180|          140|          160|          180|            800|   C|   C|   C|   B|   2|   B|   A|   B|   C|   A|   A|   B|   A|   A|   A|   A|   A|   A|   B|   B|   A|   C|   A|   B|   B|\n",
            "|200005966328|  2020|             13|      M|              1|          2|               1|              1|              0|        1|     NULL|           0|            NULL|               NULL|     NULL|     NULL|                  NULL|              NULL|           NULL|           1501402|               Belém|         15|         PA|             1|             1|             1|             1|        600|        570|        579|        589|     486.0|     503.3|     439.8|     405.6|DBEBBBCCDCBCAEBAE...|BABAEABBEDBDCDBBE...|99999EAADBDAABCBD...|BBAADDCCEABAAEBBA...|        1|DCDXDCCAEBADCBAAE...|BDDBECECBACDBDEEB...|AACDEEEECADBBCAAA...|BAECDBBXCCCBDBACC...|                1|          100|          100|          120|          100|           80|            500|   C|   D|   C|   C|   5|   D|   A|   C|   C|   A|   A|   B|   A|   A|   A|   A|   A|   A|   B|   B|   A|   C|   A|   A|   A|\n",
            "+------------+------+---------------+-------+---------------+-----------+----------------+---------------+---------------+---------+---------+------------+----------------+-------------------+---------+---------+----------------------+------------------+---------------+------------------+--------------------+-----------+-----------+--------------+--------------+--------------+--------------+-----------+-----------+-----------+-----------+----------+----------+----------+----------+--------------------+--------------------+--------------------+--------------------+---------+--------------------+--------------------+--------------------+--------------------+-----------------+-------------+-------------+-------------+-------------+-------------+---------------+----+----+----+----+----+----+----+----+----+----+----+----+----+----+----+----+----+----+----+----+----+----+----+----+----+\n",
            "only showing top 20 rows\n",
            "\n"
          ]
        }
      ]
    },
    {
      "cell_type": "code",
      "source": [
        "enem.createOrReplaceTempView(\"enem_microdados\")"
      ],
      "metadata": {
        "id": "rZus8Lr30x7w"
      },
      "execution_count": 115,
      "outputs": []
    },
    {
      "cell_type": "code",
      "source": [
        "# Qual é a média da nota em Ciências Humanas dos alunos que estudaram numa escola na cidade de Natal?\n",
        "spark.sql(\"\"\"\n",
        "  SELECT\n",
        "    NO_MUNICIPIO_ESC, AVG(NU_NOTA_CH) as Media_humanas\n",
        "  FROM enem_microdados\n",
        "  WHERE NO_MUNICIPIO_ESC = 'Natal' AND NU_NOTA_CH IS NOT NULL\n",
        "  GROUP BY NO_MUNICIPIO_ESC\n",
        "\"\"\").show()"
      ],
      "metadata": {
        "colab": {
          "base_uri": "https://localhost:8080/"
        },
        "id": "5Eo5IziD0x-p",
        "outputId": "ff21548c-1732-46a2-b17e-c54cb6e38c6e"
      },
      "execution_count": 117,
      "outputs": [
        {
          "output_type": "stream",
          "name": "stdout",
          "text": [
            "+----------------+-------------+\n",
            "|NO_MUNICIPIO_ESC|Media_humanas|\n",
            "+----------------+-------------+\n",
            "|           Natal|        542.6|\n",
            "+----------------+-------------+\n",
            "\n"
          ]
        }
      ]
    },
    {
      "cell_type": "code",
      "source": [
        "# Qual é a nota média em Ciências Humanas dos alunos que estudaram numa escola no estado de Santa Catarina e possuem PELO MENOS 1 banheiro em casa?\n",
        "spark.sql(\"\"\"\n",
        "  SELECT\n",
        "    AVG(NU_NOTA_CH) as Media_humanas\n",
        "  FROM enem\n",
        "  WHERE SG_UF_ESC = 'SC' AND NU_NOTA_CH IS NOT NULL AND Q008 not in ('A')\n",
        "\"\"\").show()"
      ],
      "metadata": {
        "colab": {
          "base_uri": "https://localhost:8080/"
        },
        "id": "tCQL2TM60yBb",
        "outputId": "1389af88-6a8a-4247-d717-da063daefd34"
      },
      "execution_count": null,
      "outputs": [
        {
          "output_type": "stream",
          "name": "stdout",
          "text": [
            "+-----------------+\n",
            "|    Media_humanas|\n",
            "+-----------------+\n",
            "|563.3502341920375|\n",
            "+-----------------+\n",
            "\n"
          ]
        }
      ]
    },
    {
      "cell_type": "code",
      "source": [
        "# Sobre o ENEM 2020, qual é a média da nota em matemática apenas para as alunas do sexo Feminino?\n",
        "spark.sql(\"\"\"\n",
        "  SELECT\n",
        "    AVG(NU_NOTA_MT) AS Media_matematica\n",
        "  FROM\n",
        "    enem\n",
        "  WHERE TP_SEXO = 'F' AND NU_NOTA_MT IS NOT NULL\n",
        "\"\"\").show()"
      ],
      "metadata": {
        "colab": {
          "base_uri": "https://localhost:8080/"
        },
        "id": "HONtZpVD0yHJ",
        "outputId": "c7325c48-d2af-4bcf-c42c-a80ed50232a7"
      },
      "execution_count": null,
      "outputs": [
        {
          "output_type": "stream",
          "name": "stdout",
          "text": [
            "+----------------+\n",
            "|Media_matematica|\n",
            "+----------------+\n",
            "|514.374683591282|\n",
            "+----------------+\n",
            "\n"
          ]
        }
      ]
    },
    {
      "cell_type": "code",
      "source": [
        "# Qual é a nota média em matemática dos alunos cuja mãe possui PELO MENOS o ensino superior completo, do sexo feminino que estudaram numa escola em Belo Horizonte?\n",
        "spark.sql(\"\"\"\n",
        "  SELECT\n",
        "    AVG(NU_NOTA_MT) AS Media_matematica\n",
        "  FROM\n",
        "    enem\n",
        "  WHERE TP_SEXO = 'F' AND NU_NOTA_MT IS NOT NULL AND Q002 IN ('F','G') AND NO_MUNICIPIO_ESC = 'Belo Horizonte'\n",
        "\"\"\").show()"
      ],
      "metadata": {
        "colab": {
          "base_uri": "https://localhost:8080/"
        },
        "id": "79Wt9MzC0yJw",
        "outputId": "55fc5973-a101-4780-b8d0-64b0d68b93fe"
      },
      "execution_count": null,
      "outputs": [
        {
          "output_type": "stream",
          "name": "stdout",
          "text": [
            "+-----------------+\n",
            "| Media_matematica|\n",
            "+-----------------+\n",
            "|706.0252380952378|\n",
            "+-----------------+\n",
            "\n"
          ]
        }
      ]
    },
    {
      "cell_type": "code",
      "source": [
        "# Quantas pessoas que estudaram numa escola no estado do Rio de Janeiro do sexo masculino obtiveram nota em matemática maior do que 600?\n",
        "spark.sql(\"\"\"\n",
        "  SELECT\n",
        "    COUNT(1)\n",
        "  FROM\n",
        "    enem_microdados\n",
        "  WHERE\n",
        "    TP_SEXO = 'M' AND SG_UF_ESC = 'RJ' AND NU_NOTA_MT > 600\n",
        "\n",
        "\"\"\").show()"
      ],
      "metadata": {
        "colab": {
          "base_uri": "https://localhost:8080/"
        },
        "id": "hC9BBECQMwyp",
        "outputId": "e8ff817d-9de1-45ba-c9bf-4e8f9838a99a"
      },
      "execution_count": 119,
      "outputs": [
        {
          "output_type": "stream",
          "name": "stdout",
          "text": [
            "+--------+\n",
            "|count(1)|\n",
            "+--------+\n",
            "|      13|\n",
            "+--------+\n",
            "\n"
          ]
        }
      ]
    },
    {
      "cell_type": "code",
      "source": [
        "spark.sql(\"\"\"\n",
        "\n",
        "    SELECT\n",
        "        COUNT(1) AS NumNotasMaior600\n",
        "    FROM(\n",
        "            SELECT\n",
        "                NU_INSCRICAO, TP_SEXO, SG_UF_ESC, NU_NOTA_MT\n",
        "            FROM enem_microdados\n",
        "            WHERE TP_SEXO = 'M' AND SG_UF_ESC = 'RJ' AND NU_NOTA_MT > 600\n",
        "    )\n",
        "\n",
        "\"\"\").show()"
      ],
      "metadata": {
        "colab": {
          "base_uri": "https://localhost:8080/"
        },
        "id": "KO2SMoWQdQpB",
        "outputId": "abe13d62-04f6-40d7-f170-f04237dbc537"
      },
      "execution_count": 121,
      "outputs": [
        {
          "output_type": "stream",
          "name": "stdout",
          "text": [
            "+----------------+\n",
            "|NumNotasMaior600|\n",
            "+----------------+\n",
            "|              13|\n",
            "+----------------+\n",
            "\n"
          ]
        }
      ]
    }
  ]
}