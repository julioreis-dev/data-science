{
  "nbformat": 4,
  "nbformat_minor": 0,
  "metadata": {
    "colab": {
      "name": "Big Data: Como instalar o PySpark no Google Colab.ipynb",
      "provenance": [],
      "include_colab_link": true
    },
    "kernelspec": {
      "name": "python3",
      "display_name": "Python 3"
    }
  },
  "cells": [
    {
      "cell_type": "markdown",
      "metadata": {
        "id": "view-in-github",
        "colab_type": "text"
      },
      "source": [
        "<a href=\"https://colab.research.google.com/github/julioreis-dev/data_science/blob/main/Big_Data_Como_instalar_o_PySpark_no_Google_Colab.ipynb\" target=\"_parent\"><img src=\"https://colab.research.google.com/assets/colab-badge.svg\" alt=\"Open In Colab\"/></a>"
      ]
    },
    {
      "cell_type": "markdown",
      "metadata": {
        "id": "DTruZS5TPEvK"
      },
      "source": [
        "# Big Data: Como instalar o PySpark no Google Colab\n",
        "\n",
        "Como instalar o PySpark no Google Colab é uma dúvida comum entre aqueles que estão migrando seus projetos de Data Science para ambientes na nuvem.\n",
        "\n",
        "O termo Big Data está cada vez mais presente, e mesmo projetos pessoais podem assumir uma grande dimensionalidade devido à quantidade de dados disponíveis.\n",
        "\n",
        "Para analisar grandes volumes de dados, Big Data, com velocidade, o Apache Spark é uma ferramenta muito utilizada, dada a sua capacidade de processamento de dados e computação paralela.\n",
        "\n",
        "O Spark foi pensado para ser acessível, oferecendo diversas APIs e frameworks em Python, Scala, SQL e diversas outras linguagens.\n",
        "\n",
        "## PySpark no Google Colab\n",
        "\n",
        "PySpark é a interface alto nível que permite você conseguir acessar e usar o Spark por meio da linguagem Python. Usando o PySpark, você consegue escrever todo o seu código usando apenas o nosso estilo Python de escrever código.\n",
        "\n",
        "Já o Google Colab é uma ferramenta incrível, poderosa e gratuita – com suporte de GPU inclusive. Uma vez que roda 100% na nuvem, você não tem a necessidade de instalar qualquer coisa na sua própria máquina.\n",
        "\n",
        "No entanto, apesar da maioria das bibliotecas de Data Science estarem previamente instaladas no Colab, o mesmo não acontece com o PySpark. Para conseguir usar o PySpark é necessário alguns passos intermediários, que não são triviais para aqueles que estão começando.\n",
        "\n",
        "Dessa maneira, preparei um tutorial simples e direto ensinando a instalar as dependências e a biblioteca.\n",
        "\n",
        "## Instalando o PySpark no Google Colab\n",
        "\n",
        "Instalar o PySpark não é um processo direto como de praxe em Python. Não basta usar um pip install apenas. Na verdade, antes de tudo é necessário instalar dependências como o Java 8, Apache Spark 2.3.2 junto com o Hadoop 2.7."
      ]
    },
    {
      "cell_type": "code",
      "metadata": {
        "id": "Oz_8sWI7PKEl"
      },
      "source": [
        "# instalar as dependências\n",
        "!apt-get install openjdk-8-jdk-headless -qq > /dev/null\n",
        "!wget -q https://archive.apache.org/dist/spark/spark-2.4.4/spark-2.4.4-bin-hadoop2.7.tgz\n",
        "!tar xf spark-2.4.4-bin-hadoop2.7.tgz\n",
        "!pip install -q findspark"
      ],
      "execution_count": 1,
      "outputs": []
    },
    {
      "cell_type": "markdown",
      "metadata": {
        "id": "cabkOXVRPYgq"
      },
      "source": [
        "A próxima etapa é configurar as variáveis de ambiente, pois isso habilita o ambiente do Colab a identificar corretamente onde as dependências estão rodando.\n",
        "\n",
        "Para conseguir “manipular” o terminal e interagir como ele, você pode usar a biblioteca os."
      ]
    },
    {
      "cell_type": "code",
      "metadata": {
        "id": "RkpG11RQPbRf"
      },
      "source": [
        "# configurar as variáveis de ambiente\n",
        "import os\n",
        "os.environ[\"JAVA_HOME\"] = \"/usr/lib/jvm/java-8-openjdk-amd64\"\n",
        "os.environ[\"SPARK_HOME\"] = \"/content/spark-2.4.4-bin-hadoop2.7\"\n",
        "\n",
        "# tornar o pyspark \"importável\"\n",
        "import findspark\n",
        "findspark.init('spark-2.4.4-bin-hadoop2.7')"
      ],
      "execution_count": 2,
      "outputs": []
    },
    {
      "cell_type": "markdown",
      "metadata": {
        "id": "Klur5aiRPdqx"
      },
      "source": [
        "Com tudo pronto, vamos rodar uma sessão local para testar se a instalação funcionou corretamente."
      ]
    },
    {
      "cell_type": "code",
      "metadata": {
        "id": "gpJqWggpPKXO",
        "colab": {
          "base_uri": "https://localhost:8080/"
        },
        "outputId": "e77c3633-a746-4c98-9760-a19d6fd4c2af"
      },
      "source": [
        "# iniciar uma sessão local e importar dados do Airbnb\n",
        "from pyspark.sql import SparkSession\n",
        "spark = SparkSession.builder.appName('Practise').getOrCreate()\n",
        "\n",
        "# download do http para arquivo local\n",
        "# !wget --quiet --show-progress http://data.insideairbnb.com/brazil/rj/rio-de-janeiro/2019-07-15/visualisations/listings.csv\n",
        "\n",
        "# carregar dados do Airbnb\n",
        "df_spark = spark.read.csv(\"/content/sample_data/california_housing_test.csv\", inferSchema=True, header=True)\n",
        "\n",
        "# ver algumas informações sobre os tipos de dados de cada coluna\n",
        "df_spark.printSchema()"
      ],
      "execution_count": 3,
      "outputs": [
        {
          "output_type": "stream",
          "name": "stdout",
          "text": [
            "root\n",
            " |-- longitude: double (nullable = true)\n",
            " |-- latitude: double (nullable = true)\n",
            " |-- housing_median_age: double (nullable = true)\n",
            " |-- total_rooms: double (nullable = true)\n",
            " |-- total_bedrooms: double (nullable = true)\n",
            " |-- population: double (nullable = true)\n",
            " |-- households: double (nullable = true)\n",
            " |-- median_income: double (nullable = true)\n",
            " |-- median_house_value: double (nullable = true)\n",
            "\n"
          ]
        }
      ]
    },
    {
      "cell_type": "markdown",
      "metadata": {
        "id": "Yj5eswa9ZzWS"
      },
      "source": [
        "## Big Data e Python\n",
        "\n",
        "A biblioteca PySpark permite você criar seu servidor Apache Spark, trabalhar com grandes volumes de dados e até mesmo fazer streaming em tempo real.\n",
        "\n",
        "Na minha opinião, o Spark é o melhor framework para trabalhar com Big Data. Tenha certeza que o PySpark vai te ajudar muito ao criar uma interface Python que permita a comunicação entre seu projeto e o servidor.\n",
        "\n",
        "Neste artigo, o meu objetivo foi unicamente apresentar a biblioteca, além de ensinar como você pode instalá-la em um ambiente de nuvem gratuito, o Google Colab. Aproveite e comece a usar hoje mesmo 🙂"
      ]
    },
    {
      "cell_type": "code",
      "metadata": {
        "colab": {
          "base_uri": "https://localhost:8080/",
          "height": 222
        },
        "id": "PP5BhL4cA_-K",
        "outputId": "6a5665c8-fe20-499c-a500-2da92a0bc2b1"
      },
      "source": [
        "spark"
      ],
      "execution_count": 4,
      "outputs": [
        {
          "output_type": "execute_result",
          "data": {
            "text/html": [
              "\n",
              "            <div>\n",
              "                <p><b>SparkSession - in-memory</b></p>\n",
              "                \n",
              "        <div>\n",
              "            <p><b>SparkContext</b></p>\n",
              "\n",
              "            <p><a href=\"http://2b427d1c442d:4040\">Spark UI</a></p>\n",
              "\n",
              "            <dl>\n",
              "              <dt>Version</dt>\n",
              "                <dd><code>v2.4.4</code></dd>\n",
              "              <dt>Master</dt>\n",
              "                <dd><code>local[*]</code></dd>\n",
              "              <dt>AppName</dt>\n",
              "                <dd><code>Practise</code></dd>\n",
              "            </dl>\n",
              "        </div>\n",
              "        \n",
              "            </div>\n",
              "        "
            ],
            "text/plain": [
              "<pyspark.sql.session.SparkSession at 0x7fad9226e350>"
            ]
          },
          "metadata": {},
          "execution_count": 4
        }
      ]
    },
    {
      "cell_type": "code",
      "metadata": {
        "colab": {
          "base_uri": "https://localhost:8080/"
        },
        "id": "qTyD7X4VBAPE",
        "outputId": "59bd709e-317e-4ff7-fde8-e1c8b1124ac3"
      },
      "source": [
        "df_spark\n"
      ],
      "execution_count": 5,
      "outputs": [
        {
          "output_type": "execute_result",
          "data": {
            "text/plain": [
              "DataFrame[longitude: double, latitude: double, housing_median_age: double, total_rooms: double, total_bedrooms: double, population: double, households: double, median_income: double, median_house_value: double]"
            ]
          },
          "metadata": {},
          "execution_count": 5
        }
      ]
    },
    {
      "cell_type": "code",
      "metadata": {
        "colab": {
          "base_uri": "https://localhost:8080/"
        },
        "id": "QWMSVlJWduoB",
        "outputId": "48e932cc-104b-42af-de67-f5d981ccffda"
      },
      "source": [
        "df_spark.describe()"
      ],
      "execution_count": 6,
      "outputs": [
        {
          "output_type": "execute_result",
          "data": {
            "text/plain": [
              "DataFrame[summary: string, longitude: string, latitude: string, housing_median_age: string, total_rooms: string, total_bedrooms: string, population: string, households: string, median_income: string, median_house_value: string]"
            ]
          },
          "metadata": {},
          "execution_count": 6
        }
      ]
    },
    {
      "cell_type": "code",
      "metadata": {
        "colab": {
          "base_uri": "https://localhost:8080/"
        },
        "id": "1GcfmDmhd8CN",
        "outputId": "85a0828f-e858-43c9-8418-90e26b47a865"
      },
      "source": [
        "df_spark.describe().show()"
      ],
      "execution_count": 7,
      "outputs": [
        {
          "output_type": "stream",
          "name": "stdout",
          "text": [
            "+-------+-------------------+------------------+------------------+-----------------+------------------+------------------+------------------+------------------+------------------+\n",
            "|summary|          longitude|          latitude|housing_median_age|      total_rooms|    total_bedrooms|        population|        households|     median_income|median_house_value|\n",
            "+-------+-------------------+------------------+------------------+-----------------+------------------+------------------+------------------+------------------+------------------+\n",
            "|  count|               3000|              3000|              3000|             3000|              3000|              3000|              3000|              3000|              3000|\n",
            "|   mean|-119.58920000000029| 35.63538999999999|28.845333333333333|2599.578666666667| 529.9506666666666|1402.7986666666666|           489.912| 3.807271799999998|        205846.275|\n",
            "| stddev| 1.9949362939550166|2.1296695233438334|12.555395554955757|2155.593331625582|415.65436813632306|1030.5430124122424|365.42270980552615|1.8545117296914775|113119.68746964622|\n",
            "|    min|            -124.18|             32.56|               1.0|              6.0|               2.0|               5.0|               2.0|            0.4999|           22500.0|\n",
            "|    max|            -114.49|             41.92|              52.0|          30450.0|            5419.0|           11935.0|            4930.0|           15.0001|          500001.0|\n",
            "+-------+-------------------+------------------+------------------+-----------------+------------------+------------------+------------------+------------------+------------------+\n",
            "\n"
          ]
        }
      ]
    },
    {
      "cell_type": "code",
      "metadata": {
        "colab": {
          "base_uri": "https://localhost:8080/"
        },
        "id": "jPMlekxkBAS6",
        "outputId": "64f1fff2-ed99-45b4-a9af-3fc6263ebb26"
      },
      "source": [
        "df_spark.show()"
      ],
      "execution_count": 8,
      "outputs": [
        {
          "output_type": "stream",
          "name": "stdout",
          "text": [
            "+---------+--------+------------------+-----------+--------------+----------+----------+-------------+------------------+\n",
            "|longitude|latitude|housing_median_age|total_rooms|total_bedrooms|population|households|median_income|median_house_value|\n",
            "+---------+--------+------------------+-----------+--------------+----------+----------+-------------+------------------+\n",
            "|  -122.05|   37.37|              27.0|     3885.0|         661.0|    1537.0|     606.0|       6.6085|          344700.0|\n",
            "|   -118.3|   34.26|              43.0|     1510.0|         310.0|     809.0|     277.0|        3.599|          176500.0|\n",
            "|  -117.81|   33.78|              27.0|     3589.0|         507.0|    1484.0|     495.0|       5.7934|          270500.0|\n",
            "|  -118.36|   33.82|              28.0|       67.0|          15.0|      49.0|      11.0|       6.1359|          330000.0|\n",
            "|  -119.67|   36.33|              19.0|     1241.0|         244.0|     850.0|     237.0|       2.9375|           81700.0|\n",
            "|  -119.56|   36.51|              37.0|     1018.0|         213.0|     663.0|     204.0|       1.6635|           67000.0|\n",
            "|  -121.43|   38.63|              43.0|     1009.0|         225.0|     604.0|     218.0|       1.6641|           67000.0|\n",
            "|  -120.65|   35.48|              19.0|     2310.0|         471.0|    1341.0|     441.0|        3.225|          166900.0|\n",
            "|  -122.84|    38.4|              15.0|     3080.0|         617.0|    1446.0|     599.0|       3.6696|          194400.0|\n",
            "|  -118.02|   34.08|              31.0|     2402.0|         632.0|    2830.0|     603.0|       2.3333|          164200.0|\n",
            "|  -118.24|   33.98|              45.0|      972.0|         249.0|    1288.0|     261.0|       2.2054|          125000.0|\n",
            "|  -119.12|   35.85|              37.0|      736.0|         166.0|     564.0|     138.0|       2.4167|           58300.0|\n",
            "|  -121.93|   37.25|              36.0|     1089.0|         182.0|     535.0|     170.0|         4.69|          252600.0|\n",
            "|  -117.03|   32.97|              16.0|     3936.0|         694.0|    1935.0|     659.0|       4.5625|          231200.0|\n",
            "|  -117.97|   33.73|              27.0|     2097.0|         325.0|    1217.0|     331.0|       5.7121|          222500.0|\n",
            "|  -117.99|   33.81|              42.0|      161.0|          40.0|     157.0|      50.0|          2.2|          153100.0|\n",
            "|  -120.81|   37.53|              15.0|      570.0|         123.0|     189.0|     107.0|        1.875|          181300.0|\n",
            "|   -121.2|   38.69|              26.0|     3077.0|         607.0|    1603.0|     595.0|       2.7174|          137500.0|\n",
            "|  -118.88|   34.21|              26.0|     1590.0|         196.0|     654.0|     199.0|       6.5851|          300000.0|\n",
            "|  -122.59|   38.01|              35.0|     8814.0|        1307.0|    3450.0|    1258.0|       6.1724|          414300.0|\n",
            "+---------+--------+------------------+-----------+--------------+----------+----------+-------------+------------------+\n",
            "only showing top 20 rows\n",
            "\n"
          ]
        }
      ]
    },
    {
      "cell_type": "code",
      "metadata": {
        "colab": {
          "base_uri": "https://localhost:8080/"
        },
        "id": "eHSYGddkBAWV",
        "outputId": "8132b29b-47ee-405a-9097-f1b634f30910"
      },
      "source": [
        "type(df_spark)"
      ],
      "execution_count": 9,
      "outputs": [
        {
          "output_type": "execute_result",
          "data": {
            "text/plain": [
              "pyspark.sql.dataframe.DataFrame"
            ]
          },
          "metadata": {},
          "execution_count": 9
        }
      ]
    },
    {
      "cell_type": "code",
      "metadata": {
        "colab": {
          "base_uri": "https://localhost:8080/"
        },
        "id": "B7rOlWNoBAZk",
        "outputId": "1e443cfa-b3f5-4c82-9d30-3a2289e36802"
      },
      "source": [
        "df_spark.columns"
      ],
      "execution_count": 10,
      "outputs": [
        {
          "output_type": "execute_result",
          "data": {
            "text/plain": [
              "['longitude',\n",
              " 'latitude',\n",
              " 'housing_median_age',\n",
              " 'total_rooms',\n",
              " 'total_bedrooms',\n",
              " 'population',\n",
              " 'households',\n",
              " 'median_income',\n",
              " 'median_house_value']"
            ]
          },
          "metadata": {},
          "execution_count": 10
        }
      ]
    },
    {
      "cell_type": "code",
      "metadata": {
        "colab": {
          "base_uri": "https://localhost:8080/"
        },
        "id": "uMB_nKn6BAcn",
        "outputId": "7ca5dfde-7e42-4913-fa27-eb2cc5bf4fa5"
      },
      "source": [
        "df_spark.head(3)"
      ],
      "execution_count": 11,
      "outputs": [
        {
          "output_type": "execute_result",
          "data": {
            "text/plain": [
              "[Row(longitude=-122.05, latitude=37.37, housing_median_age=27.0, total_rooms=3885.0, total_bedrooms=661.0, population=1537.0, households=606.0, median_income=6.6085, median_house_value=344700.0),\n",
              " Row(longitude=-118.3, latitude=34.26, housing_median_age=43.0, total_rooms=1510.0, total_bedrooms=310.0, population=809.0, households=277.0, median_income=3.599, median_house_value=176500.0),\n",
              " Row(longitude=-117.81, latitude=33.78, housing_median_age=27.0, total_rooms=3589.0, total_bedrooms=507.0, population=1484.0, households=495.0, median_income=5.7934, median_house_value=270500.0)]"
            ]
          },
          "metadata": {},
          "execution_count": 11
        }
      ]
    },
    {
      "cell_type": "code",
      "metadata": {
        "colab": {
          "base_uri": "https://localhost:8080/"
        },
        "id": "fzvkumPwcdVJ",
        "outputId": "00f51ee4-24ae-42d3-99c6-785847ad1a7f"
      },
      "source": [
        "df_spark.select('longitude')"
      ],
      "execution_count": 12,
      "outputs": [
        {
          "output_type": "execute_result",
          "data": {
            "text/plain": [
              "DataFrame[longitude: double]"
            ]
          },
          "metadata": {},
          "execution_count": 12
        }
      ]
    },
    {
      "cell_type": "code",
      "metadata": {
        "colab": {
          "base_uri": "https://localhost:8080/"
        },
        "id": "8wCoBbhKcdYa",
        "outputId": "f5d75d4c-49b5-4027-a474-824db9569f69"
      },
      "source": [
        "df_spark.select('longitude').show()"
      ],
      "execution_count": 13,
      "outputs": [
        {
          "output_type": "stream",
          "name": "stdout",
          "text": [
            "+---------+\n",
            "|longitude|\n",
            "+---------+\n",
            "|  -122.05|\n",
            "|   -118.3|\n",
            "|  -117.81|\n",
            "|  -118.36|\n",
            "|  -119.67|\n",
            "|  -119.56|\n",
            "|  -121.43|\n",
            "|  -120.65|\n",
            "|  -122.84|\n",
            "|  -118.02|\n",
            "|  -118.24|\n",
            "|  -119.12|\n",
            "|  -121.93|\n",
            "|  -117.03|\n",
            "|  -117.97|\n",
            "|  -117.99|\n",
            "|  -120.81|\n",
            "|   -121.2|\n",
            "|  -118.88|\n",
            "|  -122.59|\n",
            "+---------+\n",
            "only showing top 20 rows\n",
            "\n"
          ]
        }
      ]
    },
    {
      "cell_type": "code",
      "metadata": {
        "colab": {
          "base_uri": "https://localhost:8080/"
        },
        "id": "eUSb7RTscdbG",
        "outputId": "e17486fa-0157-48c0-819f-40ee364aaa3e"
      },
      "source": [
        "df_spark.select(['longitude', 'population']).show()"
      ],
      "execution_count": 14,
      "outputs": [
        {
          "output_type": "stream",
          "name": "stdout",
          "text": [
            "+---------+----------+\n",
            "|longitude|population|\n",
            "+---------+----------+\n",
            "|  -122.05|    1537.0|\n",
            "|   -118.3|     809.0|\n",
            "|  -117.81|    1484.0|\n",
            "|  -118.36|      49.0|\n",
            "|  -119.67|     850.0|\n",
            "|  -119.56|     663.0|\n",
            "|  -121.43|     604.0|\n",
            "|  -120.65|    1341.0|\n",
            "|  -122.84|    1446.0|\n",
            "|  -118.02|    2830.0|\n",
            "|  -118.24|    1288.0|\n",
            "|  -119.12|     564.0|\n",
            "|  -121.93|     535.0|\n",
            "|  -117.03|    1935.0|\n",
            "|  -117.97|    1217.0|\n",
            "|  -117.99|     157.0|\n",
            "|  -120.81|     189.0|\n",
            "|   -121.2|    1603.0|\n",
            "|  -118.88|     654.0|\n",
            "|  -122.59|    3450.0|\n",
            "+---------+----------+\n",
            "only showing top 20 rows\n",
            "\n"
          ]
        }
      ]
    },
    {
      "cell_type": "code",
      "metadata": {
        "colab": {
          "base_uri": "https://localhost:8080/"
        },
        "id": "jW1W_KIEcdeQ",
        "outputId": "1b0daaa9-0d92-4656-b464-0b5f88044274"
      },
      "source": [
        "df_spark.dtypes"
      ],
      "execution_count": 15,
      "outputs": [
        {
          "output_type": "execute_result",
          "data": {
            "text/plain": [
              "[('longitude', 'double'),\n",
              " ('latitude', 'double'),\n",
              " ('housing_median_age', 'double'),\n",
              " ('total_rooms', 'double'),\n",
              " ('total_bedrooms', 'double'),\n",
              " ('population', 'double'),\n",
              " ('households', 'double'),\n",
              " ('median_income', 'double'),\n",
              " ('median_house_value', 'double')]"
            ]
          },
          "metadata": {},
          "execution_count": 15
        }
      ]
    },
    {
      "cell_type": "markdown",
      "metadata": {
        "id": "HJOHUQYfeDHl"
      },
      "source": [
        "# ***Adicionando colunas***"
      ]
    },
    {
      "cell_type": "code",
      "metadata": {
        "id": "cRbnsOK1cdhi"
      },
      "source": [
        "df_spark=df_spark.withColumn('Experience', df_spark['latitude']+2)"
      ],
      "execution_count": 16,
      "outputs": []
    },
    {
      "cell_type": "code",
      "metadata": {
        "colab": {
          "base_uri": "https://localhost:8080/"
        },
        "id": "lZdkMYGWcdj_",
        "outputId": "fc58c8f2-b4f3-48ff-ef34-62256fb44f8e"
      },
      "source": [
        "df_spark.show()"
      ],
      "execution_count": 17,
      "outputs": [
        {
          "output_type": "stream",
          "name": "stdout",
          "text": [
            "+---------+--------+------------------+-----------+--------------+----------+----------+-------------+------------------+----------+\n",
            "|longitude|latitude|housing_median_age|total_rooms|total_bedrooms|population|households|median_income|median_house_value|Experience|\n",
            "+---------+--------+------------------+-----------+--------------+----------+----------+-------------+------------------+----------+\n",
            "|  -122.05|   37.37|              27.0|     3885.0|         661.0|    1537.0|     606.0|       6.6085|          344700.0|     39.37|\n",
            "|   -118.3|   34.26|              43.0|     1510.0|         310.0|     809.0|     277.0|        3.599|          176500.0|     36.26|\n",
            "|  -117.81|   33.78|              27.0|     3589.0|         507.0|    1484.0|     495.0|       5.7934|          270500.0|     35.78|\n",
            "|  -118.36|   33.82|              28.0|       67.0|          15.0|      49.0|      11.0|       6.1359|          330000.0|     35.82|\n",
            "|  -119.67|   36.33|              19.0|     1241.0|         244.0|     850.0|     237.0|       2.9375|           81700.0|     38.33|\n",
            "|  -119.56|   36.51|              37.0|     1018.0|         213.0|     663.0|     204.0|       1.6635|           67000.0|     38.51|\n",
            "|  -121.43|   38.63|              43.0|     1009.0|         225.0|     604.0|     218.0|       1.6641|           67000.0|     40.63|\n",
            "|  -120.65|   35.48|              19.0|     2310.0|         471.0|    1341.0|     441.0|        3.225|          166900.0|     37.48|\n",
            "|  -122.84|    38.4|              15.0|     3080.0|         617.0|    1446.0|     599.0|       3.6696|          194400.0|      40.4|\n",
            "|  -118.02|   34.08|              31.0|     2402.0|         632.0|    2830.0|     603.0|       2.3333|          164200.0|     36.08|\n",
            "|  -118.24|   33.98|              45.0|      972.0|         249.0|    1288.0|     261.0|       2.2054|          125000.0|     35.98|\n",
            "|  -119.12|   35.85|              37.0|      736.0|         166.0|     564.0|     138.0|       2.4167|           58300.0|     37.85|\n",
            "|  -121.93|   37.25|              36.0|     1089.0|         182.0|     535.0|     170.0|         4.69|          252600.0|     39.25|\n",
            "|  -117.03|   32.97|              16.0|     3936.0|         694.0|    1935.0|     659.0|       4.5625|          231200.0|     34.97|\n",
            "|  -117.97|   33.73|              27.0|     2097.0|         325.0|    1217.0|     331.0|       5.7121|          222500.0|     35.73|\n",
            "|  -117.99|   33.81|              42.0|      161.0|          40.0|     157.0|      50.0|          2.2|          153100.0|     35.81|\n",
            "|  -120.81|   37.53|              15.0|      570.0|         123.0|     189.0|     107.0|        1.875|          181300.0|     39.53|\n",
            "|   -121.2|   38.69|              26.0|     3077.0|         607.0|    1603.0|     595.0|       2.7174|          137500.0|     40.69|\n",
            "|  -118.88|   34.21|              26.0|     1590.0|         196.0|     654.0|     199.0|       6.5851|          300000.0|     36.21|\n",
            "|  -122.59|   38.01|              35.0|     8814.0|        1307.0|    3450.0|    1258.0|       6.1724|          414300.0|     40.01|\n",
            "+---------+--------+------------------+-----------+--------------+----------+----------+-------------+------------------+----------+\n",
            "only showing top 20 rows\n",
            "\n"
          ]
        }
      ]
    },
    {
      "cell_type": "markdown",
      "metadata": {
        "id": "KS191XaCfBub"
      },
      "source": [
        "# ***Removendo colunas***"
      ]
    },
    {
      "cell_type": "code",
      "metadata": {
        "id": "4t_aBN4Gcdm5"
      },
      "source": [
        "df_spark=df_spark.drop('Experience')"
      ],
      "execution_count": 18,
      "outputs": []
    },
    {
      "cell_type": "code",
      "metadata": {
        "colab": {
          "base_uri": "https://localhost:8080/"
        },
        "id": "jTUGPezAgD0d",
        "outputId": "cd650c93-7d28-45b1-ffc5-6d993b2c51a4"
      },
      "source": [
        "df_spark.show()"
      ],
      "execution_count": 19,
      "outputs": [
        {
          "output_type": "stream",
          "name": "stdout",
          "text": [
            "+---------+--------+------------------+-----------+--------------+----------+----------+-------------+------------------+\n",
            "|longitude|latitude|housing_median_age|total_rooms|total_bedrooms|population|households|median_income|median_house_value|\n",
            "+---------+--------+------------------+-----------+--------------+----------+----------+-------------+------------------+\n",
            "|  -122.05|   37.37|              27.0|     3885.0|         661.0|    1537.0|     606.0|       6.6085|          344700.0|\n",
            "|   -118.3|   34.26|              43.0|     1510.0|         310.0|     809.0|     277.0|        3.599|          176500.0|\n",
            "|  -117.81|   33.78|              27.0|     3589.0|         507.0|    1484.0|     495.0|       5.7934|          270500.0|\n",
            "|  -118.36|   33.82|              28.0|       67.0|          15.0|      49.0|      11.0|       6.1359|          330000.0|\n",
            "|  -119.67|   36.33|              19.0|     1241.0|         244.0|     850.0|     237.0|       2.9375|           81700.0|\n",
            "|  -119.56|   36.51|              37.0|     1018.0|         213.0|     663.0|     204.0|       1.6635|           67000.0|\n",
            "|  -121.43|   38.63|              43.0|     1009.0|         225.0|     604.0|     218.0|       1.6641|           67000.0|\n",
            "|  -120.65|   35.48|              19.0|     2310.0|         471.0|    1341.0|     441.0|        3.225|          166900.0|\n",
            "|  -122.84|    38.4|              15.0|     3080.0|         617.0|    1446.0|     599.0|       3.6696|          194400.0|\n",
            "|  -118.02|   34.08|              31.0|     2402.0|         632.0|    2830.0|     603.0|       2.3333|          164200.0|\n",
            "|  -118.24|   33.98|              45.0|      972.0|         249.0|    1288.0|     261.0|       2.2054|          125000.0|\n",
            "|  -119.12|   35.85|              37.0|      736.0|         166.0|     564.0|     138.0|       2.4167|           58300.0|\n",
            "|  -121.93|   37.25|              36.0|     1089.0|         182.0|     535.0|     170.0|         4.69|          252600.0|\n",
            "|  -117.03|   32.97|              16.0|     3936.0|         694.0|    1935.0|     659.0|       4.5625|          231200.0|\n",
            "|  -117.97|   33.73|              27.0|     2097.0|         325.0|    1217.0|     331.0|       5.7121|          222500.0|\n",
            "|  -117.99|   33.81|              42.0|      161.0|          40.0|     157.0|      50.0|          2.2|          153100.0|\n",
            "|  -120.81|   37.53|              15.0|      570.0|         123.0|     189.0|     107.0|        1.875|          181300.0|\n",
            "|   -121.2|   38.69|              26.0|     3077.0|         607.0|    1603.0|     595.0|       2.7174|          137500.0|\n",
            "|  -118.88|   34.21|              26.0|     1590.0|         196.0|     654.0|     199.0|       6.5851|          300000.0|\n",
            "|  -122.59|   38.01|              35.0|     8814.0|        1307.0|    3450.0|    1258.0|       6.1724|          414300.0|\n",
            "+---------+--------+------------------+-----------+--------------+----------+----------+-------------+------------------+\n",
            "only showing top 20 rows\n",
            "\n"
          ]
        }
      ]
    },
    {
      "cell_type": "code",
      "metadata": {
        "id": "_HbPtUhzBAfd"
      },
      "source": [
        "df_spark = df_spark.withColumnRenamed('longitude', 'long')"
      ],
      "execution_count": 20,
      "outputs": []
    },
    {
      "cell_type": "code",
      "metadata": {
        "colab": {
          "base_uri": "https://localhost:8080/"
        },
        "id": "xpygWoO46yp5",
        "outputId": "aa211555-0288-4939-a6ce-07dc707c477e"
      },
      "source": [
        "df_spark.show()"
      ],
      "execution_count": 21,
      "outputs": [
        {
          "output_type": "stream",
          "name": "stdout",
          "text": [
            "+-------+--------+------------------+-----------+--------------+----------+----------+-------------+------------------+\n",
            "|   long|latitude|housing_median_age|total_rooms|total_bedrooms|population|households|median_income|median_house_value|\n",
            "+-------+--------+------------------+-----------+--------------+----------+----------+-------------+------------------+\n",
            "|-122.05|   37.37|              27.0|     3885.0|         661.0|    1537.0|     606.0|       6.6085|          344700.0|\n",
            "| -118.3|   34.26|              43.0|     1510.0|         310.0|     809.0|     277.0|        3.599|          176500.0|\n",
            "|-117.81|   33.78|              27.0|     3589.0|         507.0|    1484.0|     495.0|       5.7934|          270500.0|\n",
            "|-118.36|   33.82|              28.0|       67.0|          15.0|      49.0|      11.0|       6.1359|          330000.0|\n",
            "|-119.67|   36.33|              19.0|     1241.0|         244.0|     850.0|     237.0|       2.9375|           81700.0|\n",
            "|-119.56|   36.51|              37.0|     1018.0|         213.0|     663.0|     204.0|       1.6635|           67000.0|\n",
            "|-121.43|   38.63|              43.0|     1009.0|         225.0|     604.0|     218.0|       1.6641|           67000.0|\n",
            "|-120.65|   35.48|              19.0|     2310.0|         471.0|    1341.0|     441.0|        3.225|          166900.0|\n",
            "|-122.84|    38.4|              15.0|     3080.0|         617.0|    1446.0|     599.0|       3.6696|          194400.0|\n",
            "|-118.02|   34.08|              31.0|     2402.0|         632.0|    2830.0|     603.0|       2.3333|          164200.0|\n",
            "|-118.24|   33.98|              45.0|      972.0|         249.0|    1288.0|     261.0|       2.2054|          125000.0|\n",
            "|-119.12|   35.85|              37.0|      736.0|         166.0|     564.0|     138.0|       2.4167|           58300.0|\n",
            "|-121.93|   37.25|              36.0|     1089.0|         182.0|     535.0|     170.0|         4.69|          252600.0|\n",
            "|-117.03|   32.97|              16.0|     3936.0|         694.0|    1935.0|     659.0|       4.5625|          231200.0|\n",
            "|-117.97|   33.73|              27.0|     2097.0|         325.0|    1217.0|     331.0|       5.7121|          222500.0|\n",
            "|-117.99|   33.81|              42.0|      161.0|          40.0|     157.0|      50.0|          2.2|          153100.0|\n",
            "|-120.81|   37.53|              15.0|      570.0|         123.0|     189.0|     107.0|        1.875|          181300.0|\n",
            "| -121.2|   38.69|              26.0|     3077.0|         607.0|    1603.0|     595.0|       2.7174|          137500.0|\n",
            "|-118.88|   34.21|              26.0|     1590.0|         196.0|     654.0|     199.0|       6.5851|          300000.0|\n",
            "|-122.59|   38.01|              35.0|     8814.0|        1307.0|    3450.0|    1258.0|       6.1724|          414300.0|\n",
            "+-------+--------+------------------+-----------+--------------+----------+----------+-------------+------------------+\n",
            "only showing top 20 rows\n",
            "\n"
          ]
        }
      ]
    },
    {
      "cell_type": "code",
      "metadata": {
        "colab": {
          "base_uri": "https://localhost:8080/"
        },
        "id": "vauAn3Dv6ytH",
        "outputId": "b99068d4-60d2-486e-fbe9-2ac309ccb894"
      },
      "source": [
        "df_spark.na.drop().show()"
      ],
      "execution_count": 22,
      "outputs": [
        {
          "output_type": "stream",
          "name": "stdout",
          "text": [
            "+-------+--------+------------------+-----------+--------------+----------+----------+-------------+------------------+\n",
            "|   long|latitude|housing_median_age|total_rooms|total_bedrooms|population|households|median_income|median_house_value|\n",
            "+-------+--------+------------------+-----------+--------------+----------+----------+-------------+------------------+\n",
            "|-122.05|   37.37|              27.0|     3885.0|         661.0|    1537.0|     606.0|       6.6085|          344700.0|\n",
            "| -118.3|   34.26|              43.0|     1510.0|         310.0|     809.0|     277.0|        3.599|          176500.0|\n",
            "|-117.81|   33.78|              27.0|     3589.0|         507.0|    1484.0|     495.0|       5.7934|          270500.0|\n",
            "|-118.36|   33.82|              28.0|       67.0|          15.0|      49.0|      11.0|       6.1359|          330000.0|\n",
            "|-119.67|   36.33|              19.0|     1241.0|         244.0|     850.0|     237.0|       2.9375|           81700.0|\n",
            "|-119.56|   36.51|              37.0|     1018.0|         213.0|     663.0|     204.0|       1.6635|           67000.0|\n",
            "|-121.43|   38.63|              43.0|     1009.0|         225.0|     604.0|     218.0|       1.6641|           67000.0|\n",
            "|-120.65|   35.48|              19.0|     2310.0|         471.0|    1341.0|     441.0|        3.225|          166900.0|\n",
            "|-122.84|    38.4|              15.0|     3080.0|         617.0|    1446.0|     599.0|       3.6696|          194400.0|\n",
            "|-118.02|   34.08|              31.0|     2402.0|         632.0|    2830.0|     603.0|       2.3333|          164200.0|\n",
            "|-118.24|   33.98|              45.0|      972.0|         249.0|    1288.0|     261.0|       2.2054|          125000.0|\n",
            "|-119.12|   35.85|              37.0|      736.0|         166.0|     564.0|     138.0|       2.4167|           58300.0|\n",
            "|-121.93|   37.25|              36.0|     1089.0|         182.0|     535.0|     170.0|         4.69|          252600.0|\n",
            "|-117.03|   32.97|              16.0|     3936.0|         694.0|    1935.0|     659.0|       4.5625|          231200.0|\n",
            "|-117.97|   33.73|              27.0|     2097.0|         325.0|    1217.0|     331.0|       5.7121|          222500.0|\n",
            "|-117.99|   33.81|              42.0|      161.0|          40.0|     157.0|      50.0|          2.2|          153100.0|\n",
            "|-120.81|   37.53|              15.0|      570.0|         123.0|     189.0|     107.0|        1.875|          181300.0|\n",
            "| -121.2|   38.69|              26.0|     3077.0|         607.0|    1603.0|     595.0|       2.7174|          137500.0|\n",
            "|-118.88|   34.21|              26.0|     1590.0|         196.0|     654.0|     199.0|       6.5851|          300000.0|\n",
            "|-122.59|   38.01|              35.0|     8814.0|        1307.0|    3450.0|    1258.0|       6.1724|          414300.0|\n",
            "+-------+--------+------------------+-----------+--------------+----------+----------+-------------+------------------+\n",
            "only showing top 20 rows\n",
            "\n"
          ]
        }
      ]
    },
    {
      "cell_type": "code",
      "metadata": {
        "colab": {
          "base_uri": "https://localhost:8080/"
        },
        "id": "1RNyy9yc6ywG",
        "outputId": "1ff28cf7-abc3-42ee-bfec-1451bbf8a457"
      },
      "source": [
        "df_spark.count()"
      ],
      "execution_count": 23,
      "outputs": [
        {
          "output_type": "execute_result",
          "data": {
            "text/plain": [
              "3000"
            ]
          },
          "metadata": {},
          "execution_count": 23
        }
      ]
    },
    {
      "cell_type": "code",
      "metadata": {
        "colab": {
          "base_uri": "https://localhost:8080/"
        },
        "id": "H8G3R8Dw6yyu",
        "outputId": "85a6a324-9f28-4d37-8f9d-19be9fffb56c"
      },
      "source": [
        "len(df_spark.columns)"
      ],
      "execution_count": 24,
      "outputs": [
        {
          "output_type": "execute_result",
          "data": {
            "text/plain": [
              "9"
            ]
          },
          "metadata": {},
          "execution_count": 24
        }
      ]
    },
    {
      "cell_type": "code",
      "metadata": {
        "colab": {
          "base_uri": "https://localhost:8080/"
        },
        "id": "EXfQHpYo6y1Z",
        "outputId": "73c2cc5b-ef64-4d06-9ad3-68cbed097ffc"
      },
      "source": [
        "df_spark.na.fill('Missing').show()"
      ],
      "execution_count": 25,
      "outputs": [
        {
          "output_type": "stream",
          "name": "stdout",
          "text": [
            "+-------+--------+------------------+-----------+--------------+----------+----------+-------------+------------------+\n",
            "|   long|latitude|housing_median_age|total_rooms|total_bedrooms|population|households|median_income|median_house_value|\n",
            "+-------+--------+------------------+-----------+--------------+----------+----------+-------------+------------------+\n",
            "|-122.05|   37.37|              27.0|     3885.0|         661.0|    1537.0|     606.0|       6.6085|          344700.0|\n",
            "| -118.3|   34.26|              43.0|     1510.0|         310.0|     809.0|     277.0|        3.599|          176500.0|\n",
            "|-117.81|   33.78|              27.0|     3589.0|         507.0|    1484.0|     495.0|       5.7934|          270500.0|\n",
            "|-118.36|   33.82|              28.0|       67.0|          15.0|      49.0|      11.0|       6.1359|          330000.0|\n",
            "|-119.67|   36.33|              19.0|     1241.0|         244.0|     850.0|     237.0|       2.9375|           81700.0|\n",
            "|-119.56|   36.51|              37.0|     1018.0|         213.0|     663.0|     204.0|       1.6635|           67000.0|\n",
            "|-121.43|   38.63|              43.0|     1009.0|         225.0|     604.0|     218.0|       1.6641|           67000.0|\n",
            "|-120.65|   35.48|              19.0|     2310.0|         471.0|    1341.0|     441.0|        3.225|          166900.0|\n",
            "|-122.84|    38.4|              15.0|     3080.0|         617.0|    1446.0|     599.0|       3.6696|          194400.0|\n",
            "|-118.02|   34.08|              31.0|     2402.0|         632.0|    2830.0|     603.0|       2.3333|          164200.0|\n",
            "|-118.24|   33.98|              45.0|      972.0|         249.0|    1288.0|     261.0|       2.2054|          125000.0|\n",
            "|-119.12|   35.85|              37.0|      736.0|         166.0|     564.0|     138.0|       2.4167|           58300.0|\n",
            "|-121.93|   37.25|              36.0|     1089.0|         182.0|     535.0|     170.0|         4.69|          252600.0|\n",
            "|-117.03|   32.97|              16.0|     3936.0|         694.0|    1935.0|     659.0|       4.5625|          231200.0|\n",
            "|-117.97|   33.73|              27.0|     2097.0|         325.0|    1217.0|     331.0|       5.7121|          222500.0|\n",
            "|-117.99|   33.81|              42.0|      161.0|          40.0|     157.0|      50.0|          2.2|          153100.0|\n",
            "|-120.81|   37.53|              15.0|      570.0|         123.0|     189.0|     107.0|        1.875|          181300.0|\n",
            "| -121.2|   38.69|              26.0|     3077.0|         607.0|    1603.0|     595.0|       2.7174|          137500.0|\n",
            "|-118.88|   34.21|              26.0|     1590.0|         196.0|     654.0|     199.0|       6.5851|          300000.0|\n",
            "|-122.59|   38.01|              35.0|     8814.0|        1307.0|    3450.0|    1258.0|       6.1724|          414300.0|\n",
            "+-------+--------+------------------+-----------+--------------+----------+----------+-------------+------------------+\n",
            "only showing top 20 rows\n",
            "\n"
          ]
        }
      ]
    },
    {
      "cell_type": "code",
      "metadata": {
        "colab": {
          "base_uri": "https://localhost:8080/"
        },
        "id": "G-xrbO71FNaa",
        "outputId": "cfc38e8a-9752-4ea5-d1c8-4320d22e16f5"
      },
      "source": [
        "df_spark.na.fill('Missing', subset=['long']).show()"
      ],
      "execution_count": 26,
      "outputs": [
        {
          "output_type": "stream",
          "name": "stdout",
          "text": [
            "+-------+--------+------------------+-----------+--------------+----------+----------+-------------+------------------+\n",
            "|   long|latitude|housing_median_age|total_rooms|total_bedrooms|population|households|median_income|median_house_value|\n",
            "+-------+--------+------------------+-----------+--------------+----------+----------+-------------+------------------+\n",
            "|-122.05|   37.37|              27.0|     3885.0|         661.0|    1537.0|     606.0|       6.6085|          344700.0|\n",
            "| -118.3|   34.26|              43.0|     1510.0|         310.0|     809.0|     277.0|        3.599|          176500.0|\n",
            "|-117.81|   33.78|              27.0|     3589.0|         507.0|    1484.0|     495.0|       5.7934|          270500.0|\n",
            "|-118.36|   33.82|              28.0|       67.0|          15.0|      49.0|      11.0|       6.1359|          330000.0|\n",
            "|-119.67|   36.33|              19.0|     1241.0|         244.0|     850.0|     237.0|       2.9375|           81700.0|\n",
            "|-119.56|   36.51|              37.0|     1018.0|         213.0|     663.0|     204.0|       1.6635|           67000.0|\n",
            "|-121.43|   38.63|              43.0|     1009.0|         225.0|     604.0|     218.0|       1.6641|           67000.0|\n",
            "|-120.65|   35.48|              19.0|     2310.0|         471.0|    1341.0|     441.0|        3.225|          166900.0|\n",
            "|-122.84|    38.4|              15.0|     3080.0|         617.0|    1446.0|     599.0|       3.6696|          194400.0|\n",
            "|-118.02|   34.08|              31.0|     2402.0|         632.0|    2830.0|     603.0|       2.3333|          164200.0|\n",
            "|-118.24|   33.98|              45.0|      972.0|         249.0|    1288.0|     261.0|       2.2054|          125000.0|\n",
            "|-119.12|   35.85|              37.0|      736.0|         166.0|     564.0|     138.0|       2.4167|           58300.0|\n",
            "|-121.93|   37.25|              36.0|     1089.0|         182.0|     535.0|     170.0|         4.69|          252600.0|\n",
            "|-117.03|   32.97|              16.0|     3936.0|         694.0|    1935.0|     659.0|       4.5625|          231200.0|\n",
            "|-117.97|   33.73|              27.0|     2097.0|         325.0|    1217.0|     331.0|       5.7121|          222500.0|\n",
            "|-117.99|   33.81|              42.0|      161.0|          40.0|     157.0|      50.0|          2.2|          153100.0|\n",
            "|-120.81|   37.53|              15.0|      570.0|         123.0|     189.0|     107.0|        1.875|          181300.0|\n",
            "| -121.2|   38.69|              26.0|     3077.0|         607.0|    1603.0|     595.0|       2.7174|          137500.0|\n",
            "|-118.88|   34.21|              26.0|     1590.0|         196.0|     654.0|     199.0|       6.5851|          300000.0|\n",
            "|-122.59|   38.01|              35.0|     8814.0|        1307.0|    3450.0|    1258.0|       6.1724|          414300.0|\n",
            "+-------+--------+------------------+-----------+--------------+----------+----------+-------------+------------------+\n",
            "only showing top 20 rows\n",
            "\n"
          ]
        }
      ]
    },
    {
      "cell_type": "markdown",
      "metadata": {
        "id": "B1x7SBNQGHDM"
      },
      "source": [
        "# ***Filter Operations***"
      ]
    },
    {
      "cell_type": "code",
      "metadata": {
        "colab": {
          "base_uri": "https://localhost:8080/"
        },
        "id": "1L5FfBgSFNdi",
        "outputId": "5e77a776-a976-4bbd-ef49-a2ca5f60dce0"
      },
      "source": [
        "df_spark.filter('median_house_value>200000').show()"
      ],
      "execution_count": 27,
      "outputs": [
        {
          "output_type": "stream",
          "name": "stdout",
          "text": [
            "+-------+--------+------------------+-----------+--------------+----------+----------+-------------+------------------+\n",
            "|   long|latitude|housing_median_age|total_rooms|total_bedrooms|population|households|median_income|median_house_value|\n",
            "+-------+--------+------------------+-----------+--------------+----------+----------+-------------+------------------+\n",
            "|-122.05|   37.37|              27.0|     3885.0|         661.0|    1537.0|     606.0|       6.6085|          344700.0|\n",
            "|-117.81|   33.78|              27.0|     3589.0|         507.0|    1484.0|     495.0|       5.7934|          270500.0|\n",
            "|-118.36|   33.82|              28.0|       67.0|          15.0|      49.0|      11.0|       6.1359|          330000.0|\n",
            "|-121.93|   37.25|              36.0|     1089.0|         182.0|     535.0|     170.0|         4.69|          252600.0|\n",
            "|-117.03|   32.97|              16.0|     3936.0|         694.0|    1935.0|     659.0|       4.5625|          231200.0|\n",
            "|-117.97|   33.73|              27.0|     2097.0|         325.0|    1217.0|     331.0|       5.7121|          222500.0|\n",
            "|-118.88|   34.21|              26.0|     1590.0|         196.0|     654.0|     199.0|       6.5851|          300000.0|\n",
            "|-122.59|   38.01|              35.0|     8814.0|        1307.0|    3450.0|    1258.0|       6.1724|          414300.0|\n",
            "|-118.16|   34.07|              47.0|     2994.0|         543.0|    1651.0|     561.0|       3.8644|          241500.0|\n",
            "|-118.03|   34.16|              36.0|     1401.0|         218.0|     667.0|     225.0|       7.1615|          484700.0|\n",
            "|-122.42|   37.76|              52.0|     3587.0|        1030.0|    2259.0|     979.0|       2.5403|          250000.0|\n",
            "|-118.39|   33.99|              32.0|     2612.0|         418.0|    1030.0|     402.0|        6.603|          369200.0|\n",
            "|-118.45|   34.07|              19.0|     4845.0|        1609.0|    3751.0|    1539.0|        1.583|          350000.0|\n",
            "|-118.48|   34.01|              30.0|     3078.0|         954.0|    1561.0|     901.0|       3.4852|          425000.0|\n",
            "|-122.53|   37.97|              52.0|     1560.0|         451.0|     700.0|     419.0|       2.5125|          270800.0|\n",
            "|-119.01|   34.23|              11.0|     5785.0|        1035.0|    2760.0|     985.0|        4.693|          232200.0|\n",
            "|-116.92|   32.77|              16.0|     2770.0|         406.0|    1269.0|     429.0|       6.6783|          275000.0|\n",
            "|-118.06|   34.15|              37.0|     1980.0|         226.0|     697.0|     226.0|      15.0001|          500001.0|\n",
            "|-118.23|   34.13|              48.0|     1308.0|         286.0|     835.0|     294.0|       4.2891|          214800.0|\n",
            "|-117.24|   33.17|               4.0|     9998.0|        1874.0|    3925.0|    1672.0|       4.2826|          237500.0|\n",
            "+-------+--------+------------------+-----------+--------------+----------+----------+-------------+------------------+\n",
            "only showing top 20 rows\n",
            "\n"
          ]
        }
      ]
    },
    {
      "cell_type": "code",
      "metadata": {
        "colab": {
          "base_uri": "https://localhost:8080/"
        },
        "id": "WskNyqzaIDMy",
        "outputId": "f7507975-02b6-4371-db71-cfb3edf18783"
      },
      "source": [
        "df_spark.filter(df_spark['median_house_value']>200000).show()"
      ],
      "execution_count": 28,
      "outputs": [
        {
          "output_type": "stream",
          "name": "stdout",
          "text": [
            "+-------+--------+------------------+-----------+--------------+----------+----------+-------------+------------------+\n",
            "|   long|latitude|housing_median_age|total_rooms|total_bedrooms|population|households|median_income|median_house_value|\n",
            "+-------+--------+------------------+-----------+--------------+----------+----------+-------------+------------------+\n",
            "|-122.05|   37.37|              27.0|     3885.0|         661.0|    1537.0|     606.0|       6.6085|          344700.0|\n",
            "|-117.81|   33.78|              27.0|     3589.0|         507.0|    1484.0|     495.0|       5.7934|          270500.0|\n",
            "|-118.36|   33.82|              28.0|       67.0|          15.0|      49.0|      11.0|       6.1359|          330000.0|\n",
            "|-121.93|   37.25|              36.0|     1089.0|         182.0|     535.0|     170.0|         4.69|          252600.0|\n",
            "|-117.03|   32.97|              16.0|     3936.0|         694.0|    1935.0|     659.0|       4.5625|          231200.0|\n",
            "|-117.97|   33.73|              27.0|     2097.0|         325.0|    1217.0|     331.0|       5.7121|          222500.0|\n",
            "|-118.88|   34.21|              26.0|     1590.0|         196.0|     654.0|     199.0|       6.5851|          300000.0|\n",
            "|-122.59|   38.01|              35.0|     8814.0|        1307.0|    3450.0|    1258.0|       6.1724|          414300.0|\n",
            "|-118.16|   34.07|              47.0|     2994.0|         543.0|    1651.0|     561.0|       3.8644|          241500.0|\n",
            "|-118.03|   34.16|              36.0|     1401.0|         218.0|     667.0|     225.0|       7.1615|          484700.0|\n",
            "|-122.42|   37.76|              52.0|     3587.0|        1030.0|    2259.0|     979.0|       2.5403|          250000.0|\n",
            "|-118.39|   33.99|              32.0|     2612.0|         418.0|    1030.0|     402.0|        6.603|          369200.0|\n",
            "|-118.45|   34.07|              19.0|     4845.0|        1609.0|    3751.0|    1539.0|        1.583|          350000.0|\n",
            "|-118.48|   34.01|              30.0|     3078.0|         954.0|    1561.0|     901.0|       3.4852|          425000.0|\n",
            "|-122.53|   37.97|              52.0|     1560.0|         451.0|     700.0|     419.0|       2.5125|          270800.0|\n",
            "|-119.01|   34.23|              11.0|     5785.0|        1035.0|    2760.0|     985.0|        4.693|          232200.0|\n",
            "|-116.92|   32.77|              16.0|     2770.0|         406.0|    1269.0|     429.0|       6.6783|          275000.0|\n",
            "|-118.06|   34.15|              37.0|     1980.0|         226.0|     697.0|     226.0|      15.0001|          500001.0|\n",
            "|-118.23|   34.13|              48.0|     1308.0|         286.0|     835.0|     294.0|       4.2891|          214800.0|\n",
            "|-117.24|   33.17|               4.0|     9998.0|        1874.0|    3925.0|    1672.0|       4.2826|          237500.0|\n",
            "+-------+--------+------------------+-----------+--------------+----------+----------+-------------+------------------+\n",
            "only showing top 20 rows\n",
            "\n"
          ]
        }
      ]
    },
    {
      "cell_type": "code",
      "metadata": {
        "colab": {
          "base_uri": "https://localhost:8080/"
        },
        "id": "vz1R6GmUFNgZ",
        "outputId": "12ffe270-452d-4645-88d7-cfa84500ef4f"
      },
      "source": [
        "df_spark.filter('median_house_value>200000').select(['long', 'total_rooms']).show()"
      ],
      "execution_count": 29,
      "outputs": [
        {
          "output_type": "stream",
          "name": "stdout",
          "text": [
            "+-------+-----------+\n",
            "|   long|total_rooms|\n",
            "+-------+-----------+\n",
            "|-122.05|     3885.0|\n",
            "|-117.81|     3589.0|\n",
            "|-118.36|       67.0|\n",
            "|-121.93|     1089.0|\n",
            "|-117.03|     3936.0|\n",
            "|-117.97|     2097.0|\n",
            "|-118.88|     1590.0|\n",
            "|-122.59|     8814.0|\n",
            "|-118.16|     2994.0|\n",
            "|-118.03|     1401.0|\n",
            "|-122.42|     3587.0|\n",
            "|-118.39|     2612.0|\n",
            "|-118.45|     4845.0|\n",
            "|-118.48|     3078.0|\n",
            "|-122.53|     1560.0|\n",
            "|-119.01|     5785.0|\n",
            "|-116.92|     2770.0|\n",
            "|-118.06|     1980.0|\n",
            "|-118.23|     1308.0|\n",
            "|-117.24|     9998.0|\n",
            "+-------+-----------+\n",
            "only showing top 20 rows\n",
            "\n"
          ]
        }
      ]
    },
    {
      "cell_type": "code",
      "metadata": {
        "colab": {
          "base_uri": "https://localhost:8080/"
        },
        "id": "_uPbJyemFNi_",
        "outputId": "3b7a2bec-b132-492c-e7fd-71f06abd91c8"
      },
      "source": [
        "df_spark.filter((df_spark['long']>-117) & (df_spark['total_rooms']>20000)).show()"
      ],
      "execution_count": 30,
      "outputs": [
        {
          "output_type": "stream",
          "name": "stdout",
          "text": [
            "+-------+--------+------------------+-----------+--------------+----------+----------+-------------+------------------+\n",
            "|   long|latitude|housing_median_age|total_rooms|total_bedrooms|population|households|median_income|median_house_value|\n",
            "+-------+--------+------------------+-----------+--------------+----------+----------+-------------+------------------+\n",
            "|-116.36|   33.78|               6.0|    24121.0|        4522.0|    4176.0|    2221.0|       3.3799|          239300.0|\n",
            "+-------+--------+------------------+-----------+--------------+----------+----------+-------------+------------------+\n",
            "\n"
          ]
        }
      ]
    },
    {
      "cell_type": "code",
      "metadata": {
        "colab": {
          "base_uri": "https://localhost:8080/"
        },
        "id": "3oOEujG8FNlu",
        "outputId": "724ed098-98f8-4347-cd35-314e236a76ba"
      },
      "source": [
        "df_spark.filter((df_spark['long']>-117) & (df_spark['total_rooms']>20000)).select(['long', 'total_rooms']).show()"
      ],
      "execution_count": 31,
      "outputs": [
        {
          "output_type": "stream",
          "name": "stdout",
          "text": [
            "+-------+-----------+\n",
            "|   long|total_rooms|\n",
            "+-------+-----------+\n",
            "|-116.36|    24121.0|\n",
            "+-------+-----------+\n",
            "\n"
          ]
        }
      ]
    },
    {
      "cell_type": "markdown",
      "metadata": {
        "id": "Rs6izvblBs8R"
      },
      "source": [
        "# ***Groupby an Aggregate Functions***"
      ]
    },
    {
      "cell_type": "code",
      "metadata": {
        "colab": {
          "base_uri": "https://localhost:8080/"
        },
        "id": "FGs2dc0JFNoP",
        "outputId": "bc13de4d-6fe0-4fb4-99bf-65d3857264ee"
      },
      "source": [
        "df_spark.groupBy('long').sum().show()"
      ],
      "execution_count": 34,
      "outputs": [
        {
          "output_type": "stream",
          "name": "stdout",
          "text": [
            "+-------+-------------------+------------------+-----------------------+----------------+-------------------+---------------+---------------+------------------+-----------------------+\n",
            "|   long|          sum(long)|     sum(latitude)|sum(housing_median_age)|sum(total_rooms)|sum(total_bedrooms)|sum(population)|sum(households)|sum(median_income)|sum(median_house_value)|\n",
            "+-------+-------------------+------------------+-----------------------+----------------+-------------------+---------------+---------------+------------------+-----------------------+\n",
            "|-121.27|            -606.35|             192.7|                  112.0|         17246.0|             3664.0|         8435.0|         3463.0|16.583099999999998|               765600.0|\n",
            "|-119.04|            -119.04|             35.31|                   11.0|          2161.0|              371.0|         1267.0|          388.0|            4.1957|                92700.0|\n",
            "|-122.02|            -1220.2|375.05999999999995|                  285.0|         22705.0|             3961.0|        11734.0|         3927.0|51.632600000000004|              2669801.0|\n",
            "|-121.22|            -242.44|             75.78|                   54.0|          4393.0|              879.0|         2923.0|          867.0|            6.0388|               184500.0|\n",
            "|-122.68|            -245.36|             76.44|                   70.0|          2353.0|              455.0|          986.0|          431.0|10.278500000000001|               589800.0|\n",
            "|-120.88|            -241.76|             77.03|                   33.0|          4791.0|              901.0|         2360.0|          911.0|            6.6303|               268600.0|\n",
            "| -120.3|             -120.3|             37.97|                   17.0|          3243.0|              619.0|         1408.0|          566.0|             2.474|               120100.0|\n",
            "|-117.94|-2004.9800000000007| 575.6000000000001|                  498.0|         42062.0|             8829.0|        25988.0|         8508.0|            65.946|              3540701.0|\n",
            "|-116.99|-350.96999999999997|             98.97|                   49.0|          8225.0|             1319.0|         3705.0|         1260.0|            15.532|              1023501.0|\n",
            "|-120.73|            -241.46|             77.01|                   54.0|          2444.0|              532.0|         1259.0|          366.0|5.8062000000000005|               156800.0|\n",
            "|-117.17|            -585.85|            165.95|                  121.0|         13594.0|             2392.0|         4619.0|         1893.0|           23.2027|              1368100.0|\n",
            "|-115.59|            -115.59|             32.96|                   17.0|           841.0|              146.0|          473.0|          154.0|            3.1979|               113500.0|\n",
            "|-116.83|            -116.83|             32.81|                   18.0|          2367.0|              402.0|         1021.0|          395.0|            4.8125|               210500.0|\n",
            "| -121.6|             -121.6|              37.9|                    5.0|         14684.0|             2252.0|         4276.0|         1722.0|            6.9051|               340900.0|\n",
            "| -122.6|             -122.6|             38.24|                   16.0|          2621.0|              416.0|         1247.0|          386.0|            4.8603|               198400.0|\n",
            "|-117.11|            -819.77|228.86999999999998|                  189.0|         13017.0|             2978.0|         7992.0|         2866.0|           19.2998|               944400.0|\n",
            "|-116.85|             -233.7|             68.52|                   37.0|         12383.0|             2855.0|         3025.0|         1092.0|5.0402000000000005|               183000.0|\n",
            "|-117.44|            -234.88|             67.88|                   64.0|          2285.0|              413.0|         1271.0|          388.0|            8.1094|               245200.0|\n",
            "|-120.07|            -240.14|             73.92|                   74.0|          2231.0|              499.0|         1020.0|          484.0|            3.7409|               131300.0|\n",
            "|-119.64|            -478.56|            143.97|                  111.0|         10165.0|             1903.0|         4510.0|         1760.0|           15.2865|               784201.0|\n",
            "+-------+-------------------+------------------+-----------------------+----------------+-------------------+---------------+---------------+------------------+-----------------------+\n",
            "only showing top 20 rows\n",
            "\n"
          ]
        }
      ]
    },
    {
      "cell_type": "code",
      "metadata": {
        "colab": {
          "base_uri": "https://localhost:8080/"
        },
        "id": "aSesNwmdFNrD",
        "outputId": "37bc3a42-8051-45aa-db09-fb03baca2c82"
      },
      "source": [
        "df_spark.groupBy('long').max().show()"
      ],
      "execution_count": 35,
      "outputs": [
        {
          "output_type": "stream",
          "name": "stdout",
          "text": [
            "+-------+---------+-------------+-----------------------+----------------+-------------------+---------------+---------------+------------------+-----------------------+\n",
            "|   long|max(long)|max(latitude)|max(housing_median_age)|max(total_rooms)|max(total_bedrooms)|max(population)|max(households)|max(median_income)|max(median_house_value)|\n",
            "+-------+---------+-------------+-----------------------+----------------+-------------------+---------------+---------------+------------------+-----------------------+\n",
            "|-121.27|  -121.27|        38.66|                   33.0|          6663.0|             1369.0|         2840.0|         1299.0|            4.3098|               213500.0|\n",
            "|-119.04|  -119.04|        35.31|                   11.0|          2161.0|              371.0|         1267.0|          388.0|            4.1957|                92700.0|\n",
            "|-122.02|  -122.02|        38.26|                   44.0|          4280.0|              763.0|         2216.0|          779.0|           10.0968|               500001.0|\n",
            "|-121.22|  -121.22|        37.97|                   37.0|          2879.0|              542.0|         1802.0|          530.0|            3.6378|               126100.0|\n",
            "|-122.68|  -122.68|        38.43|                   41.0|          1865.0|              392.0|          825.0|          369.0|            6.0774|               334400.0|\n",
            "|-120.88|  -120.88|        38.58|                   25.0|          3417.0|              604.0|         1703.0|          623.0|            4.0827|               170700.0|\n",
            "| -120.3|   -120.3|        37.97|                   17.0|          3243.0|              619.0|         1408.0|          566.0|             2.474|               120100.0|\n",
            "|-117.94|  -117.94|        34.06|                   46.0|          4602.0|             1131.0|         3003.0|         1014.0|            5.4217|               500001.0|\n",
            "|-116.99|  -116.99|         33.2|                   21.0|          3833.0|              595.0|         1645.0|          589.0|            7.7517|               500001.0|\n",
            "|-120.73|  -120.73|        39.63|                   37.0|          1791.0|              356.0|          827.0|          190.0|            3.8826|                92400.0|\n",
            "|-117.17|  -117.17|        34.28|                   45.0|          4867.0|              718.0|         1471.0|          661.0|            7.1997|               376800.0|\n",
            "|-115.59|  -115.59|        32.96|                   17.0|           841.0|              146.0|          473.0|          154.0|            3.1979|               113500.0|\n",
            "|-116.83|  -116.83|        32.81|                   18.0|          2367.0|              402.0|         1021.0|          395.0|            4.8125|               210500.0|\n",
            "| -121.6|   -121.6|         37.9|                    5.0|         14684.0|             2252.0|         4276.0|         1722.0|            6.9051|               340900.0|\n",
            "| -122.6|   -122.6|        38.24|                   16.0|          2621.0|              416.0|         1247.0|          386.0|            4.8603|               198400.0|\n",
            "|-117.11|  -117.11|        32.82|                   52.0|          3160.0|              627.0|         1702.0|          612.0|            3.8864|               204400.0|\n",
            "|-116.85|  -116.85|        34.26|                   19.0|          6988.0|             1635.0|         2044.0|          726.0|            2.6094|                92400.0|\n",
            "|-117.44|  -117.44|        33.95|                   33.0|          1371.0|              236.0|          715.0|          227.0|             4.375|               129900.0|\n",
            "|-120.07|  -120.07|        36.96|                   42.0|          1268.0|              283.0|          549.0|          273.0|            2.2898|                66100.0|\n",
            "|-119.64|  -119.64|        36.85|                   34.0|          3045.0|              670.0|         1504.0|          627.0|             5.623|               500001.0|\n",
            "+-------+---------+-------------+-----------------------+----------------+-------------------+---------------+---------------+------------------+-----------------------+\n",
            "only showing top 20 rows\n",
            "\n"
          ]
        }
      ]
    },
    {
      "cell_type": "code",
      "metadata": {
        "id": "uoJpbrnQGztx"
      },
      "source": [
        ""
      ],
      "execution_count": null,
      "outputs": []
    },
    {
      "cell_type": "code",
      "metadata": {
        "id": "MxrbClEBGzxM"
      },
      "source": [
        ""
      ],
      "execution_count": null,
      "outputs": []
    },
    {
      "cell_type": "code",
      "metadata": {
        "id": "4ooXoEB_Gz07"
      },
      "source": [
        ""
      ],
      "execution_count": null,
      "outputs": []
    },
    {
      "cell_type": "code",
      "metadata": {
        "id": "AQwi_x3SGz4F"
      },
      "source": [
        ""
      ],
      "execution_count": null,
      "outputs": []
    },
    {
      "cell_type": "code",
      "metadata": {
        "id": "aOlYWfGCGz7Q"
      },
      "source": [
        ""
      ],
      "execution_count": null,
      "outputs": []
    },
    {
      "cell_type": "code",
      "metadata": {
        "id": "Tu6_Zb_9Gz-Z"
      },
      "source": [
        ""
      ],
      "execution_count": null,
      "outputs": []
    },
    {
      "cell_type": "code",
      "metadata": {
        "id": "6mgGuTlxG0BS"
      },
      "source": [
        ""
      ],
      "execution_count": null,
      "outputs": []
    },
    {
      "cell_type": "code",
      "metadata": {
        "id": "Av6rbzeoG0Eh"
      },
      "source": [
        ""
      ],
      "execution_count": null,
      "outputs": []
    },
    {
      "cell_type": "code",
      "metadata": {
        "id": "xOH07j3nG0Hi"
      },
      "source": [
        ""
      ],
      "execution_count": null,
      "outputs": []
    },
    {
      "cell_type": "code",
      "metadata": {
        "id": "dDJk-0fbG0LE"
      },
      "source": [
        ""
      ],
      "execution_count": null,
      "outputs": []
    },
    {
      "cell_type": "code",
      "metadata": {
        "id": "hqu9szZcG0OG"
      },
      "source": [
        ""
      ],
      "execution_count": null,
      "outputs": []
    }
  ]
}